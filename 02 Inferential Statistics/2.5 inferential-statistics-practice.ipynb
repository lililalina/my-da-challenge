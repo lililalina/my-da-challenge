{
 "cells": [
  {
   "cell_type": "code",
   "execution_count": 1,
   "id": "affeed43",
   "metadata": {
    "_cell_guid": "b1076dfc-b9ad-4769-8c92-a6c4dae69d19",
    "_uuid": "8f2839f25d086af736a60e9eeb907d3b93b6e0e5",
    "execution": {
     "iopub.execute_input": "2022-02-03T08:54:49.568347Z",
     "iopub.status.busy": "2022-02-03T08:54:49.567604Z",
     "iopub.status.idle": "2022-02-03T08:54:49.578843Z",
     "shell.execute_reply": "2022-02-03T08:54:49.579404Z",
     "shell.execute_reply.started": "2022-02-03T08:27:00.277975Z"
    },
    "papermill": {
     "duration": 0.081149,
     "end_time": "2022-02-03T08:54:49.579686",
     "exception": false,
     "start_time": "2022-02-03T08:54:49.498537",
     "status": "completed"
    },
    "tags": []
   },
   "outputs": [
    {
     "name": "stdout",
     "output_type": "stream",
     "text": [
      "/kaggle/input/nhanes-2015-2016/NHANES.csv\n"
     ]
    }
   ],
   "source": [
    "# This Python 3 environment comes with many helpful analytics libraries installed\n",
    "# It is defined by the kaggle/python Docker image: https://github.com/kaggle/docker-python\n",
    "# For example, here's several helpful packages to load\n",
    "\n",
    "import numpy as np # linear algebra\n",
    "import pandas as pd # data processing, CSV file I/O (e.g. pd.read_csv)\n",
    "\n",
    "# Input data files are available in the read-only \"../input/\" directory\n",
    "# For example, running this (by clicking run or pressing Shift+Enter) will list all files under the input directory\n",
    "\n",
    "import os\n",
    "for dirname, _, filenames in os.walk('/kaggle/input'):\n",
    "    for filename in filenames:\n",
    "        print(os.path.join(dirname, filename))\n",
    "\n",
    "# You can write up to 20GB to the current directory (/kaggle/working/) that gets preserved as output when you create a version using \"Save & Run All\" \n",
    "# You can also write temporary files to /kaggle/temp/, but they won't be saved outside of the current session"
   ]
  },
  {
   "cell_type": "markdown",
   "id": "0d513604",
   "metadata": {
    "papermill": {
     "duration": 0.061697,
     "end_time": "2022-02-03T08:54:49.702551",
     "exception": false,
     "start_time": "2022-02-03T08:54:49.640854",
     "status": "completed"
    },
    "tags": []
   },
   "source": [
    "Data explanation : https://wwwn.cdc.gov/Nchs/Nhanes/2015-2016/DEMO_I.htm#RIAGENDR"
   ]
  },
  {
   "cell_type": "code",
   "execution_count": 2,
   "id": "edc55f4c",
   "metadata": {
    "execution": {
     "iopub.execute_input": "2022-02-03T08:54:49.827669Z",
     "iopub.status.busy": "2022-02-03T08:54:49.827028Z",
     "iopub.status.idle": "2022-02-03T08:54:49.829658Z",
     "shell.execute_reply": "2022-02-03T08:54:49.829141Z",
     "shell.execute_reply.started": "2022-02-03T08:27:00.289952Z"
    },
    "papermill": {
     "duration": 0.066675,
     "end_time": "2022-02-03T08:54:49.829778",
     "exception": false,
     "start_time": "2022-02-03T08:54:49.763103",
     "status": "completed"
    },
    "tags": []
   },
   "outputs": [],
   "source": [
    "import warnings\n",
    "warnings.filterwarnings(\"ignore\")"
   ]
  },
  {
   "cell_type": "code",
   "execution_count": 3,
   "id": "45291dad",
   "metadata": {
    "execution": {
     "iopub.execute_input": "2022-02-03T08:54:49.956519Z",
     "iopub.status.busy": "2022-02-03T08:54:49.956033Z",
     "iopub.status.idle": "2022-02-03T08:54:52.112268Z",
     "shell.execute_reply": "2022-02-03T08:54:52.112766Z",
     "shell.execute_reply.started": "2022-02-03T08:27:00.300093Z"
    },
    "papermill": {
     "duration": 2.22376,
     "end_time": "2022-02-03T08:54:52.112985",
     "exception": false,
     "start_time": "2022-02-03T08:54:49.889225",
     "status": "completed"
    },
    "tags": []
   },
   "outputs": [],
   "source": [
    "%matplotlib inline\n",
    "import matplotlib.pyplot as plt\n",
    "import pandas as pd\n",
    "import numpy as np\n",
    "import seaborn as sns\n",
    "import statsmodels.api as sm\n",
    "\n",
    "path = \"../input/nhanes-2015-2016/NHANES.csv\"\n",
    "da = pd.read_csv(path)"
   ]
  },
  {
   "cell_type": "code",
   "execution_count": 4,
   "id": "5d5c370e",
   "metadata": {
    "execution": {
     "iopub.execute_input": "2022-02-03T08:54:52.240725Z",
     "iopub.status.busy": "2022-02-03T08:54:52.240096Z",
     "iopub.status.idle": "2022-02-03T08:54:52.282802Z",
     "shell.execute_reply": "2022-02-03T08:54:52.283357Z",
     "shell.execute_reply.started": "2022-02-03T08:27:00.338590Z"
    },
    "papermill": {
     "duration": 0.10734,
     "end_time": "2022-02-03T08:54:52.283533",
     "exception": false,
     "start_time": "2022-02-03T08:54:52.176193",
     "status": "completed"
    },
    "tags": []
   },
   "outputs": [
    {
     "data": {
      "text/html": [
       "<div>\n",
       "<style scoped>\n",
       "    .dataframe tbody tr th:only-of-type {\n",
       "        vertical-align: middle;\n",
       "    }\n",
       "\n",
       "    .dataframe tbody tr th {\n",
       "        vertical-align: top;\n",
       "    }\n",
       "\n",
       "    .dataframe thead th {\n",
       "        text-align: right;\n",
       "    }\n",
       "</style>\n",
       "<table border=\"1\" class=\"dataframe\">\n",
       "  <thead>\n",
       "    <tr style=\"text-align: right;\">\n",
       "      <th></th>\n",
       "      <th>SEQN</th>\n",
       "      <th>ALQ101</th>\n",
       "      <th>ALQ110</th>\n",
       "      <th>ALQ130</th>\n",
       "      <th>SMQ020</th>\n",
       "      <th>RIAGENDR</th>\n",
       "      <th>RIDAGEYR</th>\n",
       "      <th>RIDRETH1</th>\n",
       "      <th>DMDCITZN</th>\n",
       "      <th>DMDEDUC2</th>\n",
       "      <th>...</th>\n",
       "      <th>BPXSY2</th>\n",
       "      <th>BPXDI2</th>\n",
       "      <th>BMXWT</th>\n",
       "      <th>BMXHT</th>\n",
       "      <th>BMXBMI</th>\n",
       "      <th>BMXLEG</th>\n",
       "      <th>BMXARML</th>\n",
       "      <th>BMXARMC</th>\n",
       "      <th>BMXWAIST</th>\n",
       "      <th>HIQ210</th>\n",
       "    </tr>\n",
       "  </thead>\n",
       "  <tbody>\n",
       "    <tr>\n",
       "      <th>0</th>\n",
       "      <td>83732</td>\n",
       "      <td>1.0</td>\n",
       "      <td>NaN</td>\n",
       "      <td>1.0</td>\n",
       "      <td>1</td>\n",
       "      <td>1</td>\n",
       "      <td>62</td>\n",
       "      <td>3</td>\n",
       "      <td>1.0</td>\n",
       "      <td>5.0</td>\n",
       "      <td>...</td>\n",
       "      <td>124.0</td>\n",
       "      <td>64.0</td>\n",
       "      <td>94.8</td>\n",
       "      <td>184.5</td>\n",
       "      <td>27.8</td>\n",
       "      <td>43.3</td>\n",
       "      <td>43.6</td>\n",
       "      <td>35.9</td>\n",
       "      <td>101.1</td>\n",
       "      <td>2.0</td>\n",
       "    </tr>\n",
       "    <tr>\n",
       "      <th>1</th>\n",
       "      <td>83733</td>\n",
       "      <td>1.0</td>\n",
       "      <td>NaN</td>\n",
       "      <td>6.0</td>\n",
       "      <td>1</td>\n",
       "      <td>1</td>\n",
       "      <td>53</td>\n",
       "      <td>3</td>\n",
       "      <td>2.0</td>\n",
       "      <td>3.0</td>\n",
       "      <td>...</td>\n",
       "      <td>140.0</td>\n",
       "      <td>88.0</td>\n",
       "      <td>90.4</td>\n",
       "      <td>171.4</td>\n",
       "      <td>30.8</td>\n",
       "      <td>38.0</td>\n",
       "      <td>40.0</td>\n",
       "      <td>33.2</td>\n",
       "      <td>107.9</td>\n",
       "      <td>NaN</td>\n",
       "    </tr>\n",
       "    <tr>\n",
       "      <th>2</th>\n",
       "      <td>83734</td>\n",
       "      <td>1.0</td>\n",
       "      <td>NaN</td>\n",
       "      <td>NaN</td>\n",
       "      <td>1</td>\n",
       "      <td>1</td>\n",
       "      <td>78</td>\n",
       "      <td>3</td>\n",
       "      <td>1.0</td>\n",
       "      <td>3.0</td>\n",
       "      <td>...</td>\n",
       "      <td>132.0</td>\n",
       "      <td>44.0</td>\n",
       "      <td>83.4</td>\n",
       "      <td>170.1</td>\n",
       "      <td>28.8</td>\n",
       "      <td>35.6</td>\n",
       "      <td>37.0</td>\n",
       "      <td>31.0</td>\n",
       "      <td>116.5</td>\n",
       "      <td>2.0</td>\n",
       "    </tr>\n",
       "    <tr>\n",
       "      <th>3</th>\n",
       "      <td>83735</td>\n",
       "      <td>2.0</td>\n",
       "      <td>1.0</td>\n",
       "      <td>1.0</td>\n",
       "      <td>2</td>\n",
       "      <td>2</td>\n",
       "      <td>56</td>\n",
       "      <td>3</td>\n",
       "      <td>1.0</td>\n",
       "      <td>5.0</td>\n",
       "      <td>...</td>\n",
       "      <td>134.0</td>\n",
       "      <td>68.0</td>\n",
       "      <td>109.8</td>\n",
       "      <td>160.9</td>\n",
       "      <td>42.4</td>\n",
       "      <td>38.5</td>\n",
       "      <td>37.7</td>\n",
       "      <td>38.3</td>\n",
       "      <td>110.1</td>\n",
       "      <td>2.0</td>\n",
       "    </tr>\n",
       "    <tr>\n",
       "      <th>4</th>\n",
       "      <td>83736</td>\n",
       "      <td>2.0</td>\n",
       "      <td>1.0</td>\n",
       "      <td>1.0</td>\n",
       "      <td>2</td>\n",
       "      <td>2</td>\n",
       "      <td>42</td>\n",
       "      <td>4</td>\n",
       "      <td>1.0</td>\n",
       "      <td>4.0</td>\n",
       "      <td>...</td>\n",
       "      <td>114.0</td>\n",
       "      <td>54.0</td>\n",
       "      <td>55.2</td>\n",
       "      <td>164.9</td>\n",
       "      <td>20.3</td>\n",
       "      <td>37.4</td>\n",
       "      <td>36.0</td>\n",
       "      <td>27.2</td>\n",
       "      <td>80.4</td>\n",
       "      <td>2.0</td>\n",
       "    </tr>\n",
       "  </tbody>\n",
       "</table>\n",
       "<p>5 rows × 28 columns</p>\n",
       "</div>"
      ],
      "text/plain": [
       "    SEQN  ALQ101  ALQ110  ALQ130  SMQ020  RIAGENDR  RIDAGEYR  RIDRETH1  \\\n",
       "0  83732     1.0     NaN     1.0       1         1        62         3   \n",
       "1  83733     1.0     NaN     6.0       1         1        53         3   \n",
       "2  83734     1.0     NaN     NaN       1         1        78         3   \n",
       "3  83735     2.0     1.0     1.0       2         2        56         3   \n",
       "4  83736     2.0     1.0     1.0       2         2        42         4   \n",
       "\n",
       "   DMDCITZN  DMDEDUC2  ...  BPXSY2  BPXDI2  BMXWT  BMXHT  BMXBMI  BMXLEG  \\\n",
       "0       1.0       5.0  ...   124.0    64.0   94.8  184.5    27.8    43.3   \n",
       "1       2.0       3.0  ...   140.0    88.0   90.4  171.4    30.8    38.0   \n",
       "2       1.0       3.0  ...   132.0    44.0   83.4  170.1    28.8    35.6   \n",
       "3       1.0       5.0  ...   134.0    68.0  109.8  160.9    42.4    38.5   \n",
       "4       1.0       4.0  ...   114.0    54.0   55.2  164.9    20.3    37.4   \n",
       "\n",
       "   BMXARML  BMXARMC  BMXWAIST  HIQ210  \n",
       "0     43.6     35.9     101.1     2.0  \n",
       "1     40.0     33.2     107.9     NaN  \n",
       "2     37.0     31.0     116.5     2.0  \n",
       "3     37.7     38.3     110.1     2.0  \n",
       "4     36.0     27.2      80.4     2.0  \n",
       "\n",
       "[5 rows x 28 columns]"
      ]
     },
     "execution_count": 4,
     "metadata": {},
     "output_type": "execute_result"
    }
   ],
   "source": [
    "da.head()"
   ]
  },
  {
   "cell_type": "code",
   "execution_count": 5,
   "id": "0fd70eed",
   "metadata": {
    "execution": {
     "iopub.execute_input": "2022-02-03T08:54:52.414416Z",
     "iopub.status.busy": "2022-02-03T08:54:52.413729Z",
     "iopub.status.idle": "2022-02-03T08:54:52.435006Z",
     "shell.execute_reply": "2022-02-03T08:54:52.434146Z",
     "shell.execute_reply.started": "2022-02-03T08:27:00.368521Z"
    },
    "papermill": {
     "duration": 0.090528,
     "end_time": "2022-02-03T08:54:52.435167",
     "exception": false,
     "start_time": "2022-02-03T08:54:52.344639",
     "status": "completed"
    },
    "tags": []
   },
   "outputs": [
    {
     "name": "stdout",
     "output_type": "stream",
     "text": [
      "<class 'pandas.core.frame.DataFrame'>\n",
      "RangeIndex: 5735 entries, 0 to 5734\n",
      "Data columns (total 28 columns):\n",
      " #   Column    Non-Null Count  Dtype  \n",
      "---  ------    --------------  -----  \n",
      " 0   SEQN      5735 non-null   int64  \n",
      " 1   ALQ101    5208 non-null   float64\n",
      " 2   ALQ110    1731 non-null   float64\n",
      " 3   ALQ130    3379 non-null   float64\n",
      " 4   SMQ020    5735 non-null   int64  \n",
      " 5   RIAGENDR  5735 non-null   int64  \n",
      " 6   RIDAGEYR  5735 non-null   int64  \n",
      " 7   RIDRETH1  5735 non-null   int64  \n",
      " 8   DMDCITZN  5734 non-null   float64\n",
      " 9   DMDEDUC2  5474 non-null   float64\n",
      " 10  DMDMARTL  5474 non-null   float64\n",
      " 11  DMDHHSIZ  5735 non-null   int64  \n",
      " 12  WTINT2YR  5735 non-null   float64\n",
      " 13  SDMVPSU   5735 non-null   int64  \n",
      " 14  SDMVSTRA  5735 non-null   int64  \n",
      " 15  INDFMPIR  5134 non-null   float64\n",
      " 16  BPXSY1    5401 non-null   float64\n",
      " 17  BPXDI1    5401 non-null   float64\n",
      " 18  BPXSY2    5535 non-null   float64\n",
      " 19  BPXDI2    5535 non-null   float64\n",
      " 20  BMXWT     5666 non-null   float64\n",
      " 21  BMXHT     5673 non-null   float64\n",
      " 22  BMXBMI    5662 non-null   float64\n",
      " 23  BMXLEG    5345 non-null   float64\n",
      " 24  BMXARML   5427 non-null   float64\n",
      " 25  BMXARMC   5427 non-null   float64\n",
      " 26  BMXWAIST  5368 non-null   float64\n",
      " 27  HIQ210    4732 non-null   float64\n",
      "dtypes: float64(20), int64(8)\n",
      "memory usage: 1.2 MB\n"
     ]
    }
   ],
   "source": [
    "da.info()"
   ]
  },
  {
   "cell_type": "code",
   "execution_count": 6,
   "id": "0c3c94e5",
   "metadata": {
    "execution": {
     "iopub.execute_input": "2022-02-03T08:54:52.563494Z",
     "iopub.status.busy": "2022-02-03T08:54:52.561811Z",
     "iopub.status.idle": "2022-02-03T08:54:52.570263Z",
     "shell.execute_reply": "2022-02-03T08:54:52.569676Z",
     "shell.execute_reply.started": "2022-02-03T08:27:00.388553Z"
    },
    "papermill": {
     "duration": 0.072863,
     "end_time": "2022-02-03T08:54:52.570410",
     "exception": false,
     "start_time": "2022-02-03T08:54:52.497547",
     "status": "completed"
    },
    "tags": []
   },
   "outputs": [
    {
     "data": {
      "text/plain": [
       "SEQN           0\n",
       "ALQ101       527\n",
       "ALQ110      4004\n",
       "ALQ130      2356\n",
       "SMQ020         0\n",
       "RIAGENDR       0\n",
       "RIDAGEYR       0\n",
       "RIDRETH1       0\n",
       "DMDCITZN       1\n",
       "DMDEDUC2     261\n",
       "DMDMARTL     261\n",
       "DMDHHSIZ       0\n",
       "WTINT2YR       0\n",
       "SDMVPSU        0\n",
       "SDMVSTRA       0\n",
       "INDFMPIR     601\n",
       "BPXSY1       334\n",
       "BPXDI1       334\n",
       "BPXSY2       200\n",
       "BPXDI2       200\n",
       "BMXWT         69\n",
       "BMXHT         62\n",
       "BMXBMI        73\n",
       "BMXLEG       390\n",
       "BMXARML      308\n",
       "BMXARMC      308\n",
       "BMXWAIST     367\n",
       "HIQ210      1003\n",
       "dtype: int64"
      ]
     },
     "execution_count": 6,
     "metadata": {},
     "output_type": "execute_result"
    }
   ],
   "source": [
    "da.isnull().sum()"
   ]
  },
  {
   "cell_type": "markdown",
   "id": "53620720",
   "metadata": {
    "papermill": {
     "duration": 0.062272,
     "end_time": "2022-02-03T08:54:52.696303",
     "exception": false,
     "start_time": "2022-02-03T08:54:52.634031",
     "status": "completed"
    },
    "tags": []
   },
   "source": [
    "### Problem 1\n",
    "Restrict the sample to women between 35 and 50, then use the marital status variable DMDMARTL to partition this sample into two groups - women who are currently married, and women who are not currently married. Within each of these groups, calculate the proportion of women who have completed college. Calculate 95% confidence intervals for each of these proportions."
   ]
  },
  {
   "cell_type": "code",
   "execution_count": 7,
   "id": "e01f5669",
   "metadata": {
    "execution": {
     "iopub.execute_input": "2022-02-03T08:54:52.828182Z",
     "iopub.status.busy": "2022-02-03T08:54:52.823313Z",
     "iopub.status.idle": "2022-02-03T08:54:52.830054Z",
     "shell.execute_reply": "2022-02-03T08:54:52.830677Z",
     "shell.execute_reply.started": "2022-02-03T08:27:00.399522Z"
    },
    "papermill": {
     "duration": 0.072132,
     "end_time": "2022-02-03T08:54:52.830885",
     "exception": false,
     "start_time": "2022-02-03T08:54:52.758753",
     "status": "completed"
    },
    "tags": []
   },
   "outputs": [],
   "source": [
    "# We need 3 categories : gender woman, age 35-50, marital age\n",
    "dx = da[['RIAGENDR','RIDAGEYR','DMDMARTL','DMDEDUC2']].dropna()\n",
    "#Replace some code for easier read\n",
    "dx.columns = ['Gender', 'Age', 'Marital_status', 'Education']"
   ]
  },
  {
   "cell_type": "code",
   "execution_count": 8,
   "id": "d5219f67",
   "metadata": {
    "execution": {
     "iopub.execute_input": "2022-02-03T08:54:52.963114Z",
     "iopub.status.busy": "2022-02-03T08:54:52.962404Z",
     "iopub.status.idle": "2022-02-03T08:54:52.981707Z",
     "shell.execute_reply": "2022-02-03T08:54:52.982363Z",
     "shell.execute_reply.started": "2022-02-03T08:27:00.613130Z"
    },
    "papermill": {
     "duration": 0.088147,
     "end_time": "2022-02-03T08:54:52.982614",
     "exception": false,
     "start_time": "2022-02-03T08:54:52.894467",
     "status": "completed"
    },
    "tags": []
   },
   "outputs": [
    {
     "data": {
      "text/html": [
       "<div>\n",
       "<style scoped>\n",
       "    .dataframe tbody tr th:only-of-type {\n",
       "        vertical-align: middle;\n",
       "    }\n",
       "\n",
       "    .dataframe tbody tr th {\n",
       "        vertical-align: top;\n",
       "    }\n",
       "\n",
       "    .dataframe thead th {\n",
       "        text-align: right;\n",
       "    }\n",
       "</style>\n",
       "<table border=\"1\" class=\"dataframe\">\n",
       "  <thead>\n",
       "    <tr style=\"text-align: right;\">\n",
       "      <th></th>\n",
       "      <th>Gender</th>\n",
       "      <th>Age</th>\n",
       "      <th>Marital_status</th>\n",
       "      <th>Education</th>\n",
       "    </tr>\n",
       "  </thead>\n",
       "  <tbody>\n",
       "    <tr>\n",
       "      <th>4</th>\n",
       "      <td>Female</td>\n",
       "      <td>42</td>\n",
       "      <td>3.0</td>\n",
       "      <td>College</td>\n",
       "    </tr>\n",
       "    <tr>\n",
       "      <th>34</th>\n",
       "      <td>Female</td>\n",
       "      <td>37</td>\n",
       "      <td>Married</td>\n",
       "      <td>College</td>\n",
       "    </tr>\n",
       "    <tr>\n",
       "      <th>50</th>\n",
       "      <td>Female</td>\n",
       "      <td>39</td>\n",
       "      <td>Married</td>\n",
       "      <td>3.0</td>\n",
       "    </tr>\n",
       "    <tr>\n",
       "      <th>55</th>\n",
       "      <td>Female</td>\n",
       "      <td>45</td>\n",
       "      <td>Married</td>\n",
       "      <td>2.0</td>\n",
       "    </tr>\n",
       "    <tr>\n",
       "      <th>58</th>\n",
       "      <td>Female</td>\n",
       "      <td>44</td>\n",
       "      <td>5.0</td>\n",
       "      <td>1.0</td>\n",
       "    </tr>\n",
       "  </tbody>\n",
       "</table>\n",
       "</div>"
      ],
      "text/plain": [
       "    Gender  Age Marital_status Education\n",
       "4   Female   42            3.0   College\n",
       "34  Female   37        Married   College\n",
       "50  Female   39        Married       3.0\n",
       "55  Female   45        Married       2.0\n",
       "58  Female   44            5.0       1.0"
      ]
     },
     "execution_count": 8,
     "metadata": {},
     "output_type": "execute_result"
    }
   ],
   "source": [
    "#Slice column to age 35-50 female\n",
    "dx['Gender'] = dx['Gender'].replace({1 : 'Male', 2: 'Female'})\n",
    "dx['Marital_status'] = dx['Marital_status'].replace({1 : 'Married'})\n",
    "dx['Education'] = dx['Education'].replace({4 : 'College'})\n",
    "dx = dx[(dx['Gender'] == 'Female')&(dx['Age']>35)&(dx['Age']<50)]\n",
    "dx.head()"
   ]
  },
  {
   "cell_type": "code",
   "execution_count": 9,
   "id": "1ccf92f1",
   "metadata": {
    "execution": {
     "iopub.execute_input": "2022-02-03T08:54:53.122594Z",
     "iopub.status.busy": "2022-02-03T08:54:53.121785Z",
     "iopub.status.idle": "2022-02-03T08:54:53.135015Z",
     "shell.execute_reply": "2022-02-03T08:54:53.135547Z",
     "shell.execute_reply.started": "2022-02-03T08:27:00.695834Z"
    },
    "papermill": {
     "duration": 0.084145,
     "end_time": "2022-02-03T08:54:53.135708",
     "exception": false,
     "start_time": "2022-02-03T08:54:53.051563",
     "status": "completed"
    },
    "tags": []
   },
   "outputs": [
    {
     "data": {
      "text/html": [
       "<div>\n",
       "<style scoped>\n",
       "    .dataframe tbody tr th:only-of-type {\n",
       "        vertical-align: middle;\n",
       "    }\n",
       "\n",
       "    .dataframe tbody tr th {\n",
       "        vertical-align: top;\n",
       "    }\n",
       "\n",
       "    .dataframe thead th {\n",
       "        text-align: right;\n",
       "    }\n",
       "</style>\n",
       "<table border=\"1\" class=\"dataframe\">\n",
       "  <thead>\n",
       "    <tr style=\"text-align: right;\">\n",
       "      <th></th>\n",
       "      <th>Gender</th>\n",
       "      <th>Age</th>\n",
       "      <th>Marital_status</th>\n",
       "      <th>Education</th>\n",
       "    </tr>\n",
       "  </thead>\n",
       "  <tbody>\n",
       "    <tr>\n",
       "      <th>4</th>\n",
       "      <td>Female</td>\n",
       "      <td>42</td>\n",
       "      <td>Not married</td>\n",
       "      <td>College</td>\n",
       "    </tr>\n",
       "    <tr>\n",
       "      <th>34</th>\n",
       "      <td>Female</td>\n",
       "      <td>37</td>\n",
       "      <td>Married</td>\n",
       "      <td>College</td>\n",
       "    </tr>\n",
       "    <tr>\n",
       "      <th>50</th>\n",
       "      <td>Female</td>\n",
       "      <td>39</td>\n",
       "      <td>Married</td>\n",
       "      <td>3.0</td>\n",
       "    </tr>\n",
       "    <tr>\n",
       "      <th>55</th>\n",
       "      <td>Female</td>\n",
       "      <td>45</td>\n",
       "      <td>Married</td>\n",
       "      <td>2.0</td>\n",
       "    </tr>\n",
       "    <tr>\n",
       "      <th>58</th>\n",
       "      <td>Female</td>\n",
       "      <td>44</td>\n",
       "      <td>Not married</td>\n",
       "      <td>1.0</td>\n",
       "    </tr>\n",
       "  </tbody>\n",
       "</table>\n",
       "</div>"
      ],
      "text/plain": [
       "    Gender  Age Marital_status Education\n",
       "4   Female   42    Not married   College\n",
       "34  Female   37        Married   College\n",
       "50  Female   39        Married       3.0\n",
       "55  Female   45        Married       2.0\n",
       "58  Female   44    Not married       1.0"
      ]
     },
     "execution_count": 9,
     "metadata": {},
     "output_type": "execute_result"
    }
   ],
   "source": [
    "marital_counts = dx.Marital_status.unique()\n",
    "other_marital = list(marital_counts[marital_counts != 'Married'])\n",
    "\n",
    "dx['Marital_status'] = dx['Marital_status'].replace(other_marital, 'Not married')\n",
    "dx.head()"
   ]
  },
  {
   "cell_type": "code",
   "execution_count": 10,
   "id": "0f9a23a5",
   "metadata": {
    "execution": {
     "iopub.execute_input": "2022-02-03T08:54:53.277969Z",
     "iopub.status.busy": "2022-02-03T08:54:53.277368Z",
     "iopub.status.idle": "2022-02-03T08:54:53.291055Z",
     "shell.execute_reply": "2022-02-03T08:54:53.291697Z",
     "shell.execute_reply.started": "2022-02-03T08:27:00.746702Z"
    },
    "papermill": {
     "duration": 0.090231,
     "end_time": "2022-02-03T08:54:53.291886",
     "exception": false,
     "start_time": "2022-02-03T08:54:53.201655",
     "status": "completed"
    },
    "tags": []
   },
   "outputs": [
    {
     "data": {
      "text/html": [
       "<div>\n",
       "<style scoped>\n",
       "    .dataframe tbody tr th:only-of-type {\n",
       "        vertical-align: middle;\n",
       "    }\n",
       "\n",
       "    .dataframe tbody tr th {\n",
       "        vertical-align: top;\n",
       "    }\n",
       "\n",
       "    .dataframe thead th {\n",
       "        text-align: right;\n",
       "    }\n",
       "</style>\n",
       "<table border=\"1\" class=\"dataframe\">\n",
       "  <thead>\n",
       "    <tr style=\"text-align: right;\">\n",
       "      <th></th>\n",
       "      <th>Gender</th>\n",
       "      <th>Age</th>\n",
       "      <th>Marital_status</th>\n",
       "      <th>Education</th>\n",
       "    </tr>\n",
       "  </thead>\n",
       "  <tbody>\n",
       "    <tr>\n",
       "      <th>4</th>\n",
       "      <td>Female</td>\n",
       "      <td>42</td>\n",
       "      <td>Not married</td>\n",
       "      <td>College</td>\n",
       "    </tr>\n",
       "    <tr>\n",
       "      <th>34</th>\n",
       "      <td>Female</td>\n",
       "      <td>37</td>\n",
       "      <td>Married</td>\n",
       "      <td>College</td>\n",
       "    </tr>\n",
       "    <tr>\n",
       "      <th>50</th>\n",
       "      <td>Female</td>\n",
       "      <td>39</td>\n",
       "      <td>Married</td>\n",
       "      <td>Not college</td>\n",
       "    </tr>\n",
       "    <tr>\n",
       "      <th>55</th>\n",
       "      <td>Female</td>\n",
       "      <td>45</td>\n",
       "      <td>Married</td>\n",
       "      <td>Not college</td>\n",
       "    </tr>\n",
       "    <tr>\n",
       "      <th>58</th>\n",
       "      <td>Female</td>\n",
       "      <td>44</td>\n",
       "      <td>Not married</td>\n",
       "      <td>Not college</td>\n",
       "    </tr>\n",
       "  </tbody>\n",
       "</table>\n",
       "</div>"
      ],
      "text/plain": [
       "    Gender  Age Marital_status    Education\n",
       "4   Female   42    Not married      College\n",
       "34  Female   37        Married      College\n",
       "50  Female   39        Married  Not college\n",
       "55  Female   45        Married  Not college\n",
       "58  Female   44    Not married  Not college"
      ]
     },
     "execution_count": 10,
     "metadata": {},
     "output_type": "execute_result"
    }
   ],
   "source": [
    "college_counts = dx.Education.unique()\n",
    "non_college = list(college_counts[college_counts != 'College'])\n",
    "\n",
    "dx['Education'] = dx['Education'].replace(non_college, 'Not college')\n",
    "dx.head()"
   ]
  },
  {
   "cell_type": "code",
   "execution_count": 11,
   "id": "bd5d5764",
   "metadata": {
    "execution": {
     "iopub.execute_input": "2022-02-03T08:54:53.378705Z",
     "iopub.status.busy": "2022-02-03T08:54:53.378208Z",
     "iopub.status.idle": "2022-02-03T08:54:53.405234Z",
     "shell.execute_reply": "2022-02-03T08:54:53.405600Z",
     "shell.execute_reply.started": "2022-02-03T08:27:00.806200Z"
    },
    "papermill": {
     "duration": 0.071788,
     "end_time": "2022-02-03T08:54:53.405750",
     "exception": false,
     "start_time": "2022-02-03T08:54:53.333962",
     "status": "completed"
    },
    "tags": []
   },
   "outputs": [
    {
     "data": {
      "text/html": [
       "<div>\n",
       "<style scoped>\n",
       "    .dataframe tbody tr th:only-of-type {\n",
       "        vertical-align: middle;\n",
       "    }\n",
       "\n",
       "    .dataframe tbody tr th {\n",
       "        vertical-align: top;\n",
       "    }\n",
       "\n",
       "    .dataframe thead th {\n",
       "        text-align: right;\n",
       "    }\n",
       "</style>\n",
       "<table border=\"1\" class=\"dataframe\">\n",
       "  <thead>\n",
       "    <tr style=\"text-align: right;\">\n",
       "      <th>Education</th>\n",
       "      <th>College</th>\n",
       "      <th>Not college</th>\n",
       "    </tr>\n",
       "    <tr>\n",
       "      <th>Marital_status</th>\n",
       "      <th></th>\n",
       "      <th></th>\n",
       "    </tr>\n",
       "  </thead>\n",
       "  <tbody>\n",
       "    <tr>\n",
       "      <th>Married</th>\n",
       "      <td>117</td>\n",
       "      <td>275</td>\n",
       "    </tr>\n",
       "    <tr>\n",
       "      <th>Not married</th>\n",
       "      <td>109</td>\n",
       "      <td>197</td>\n",
       "    </tr>\n",
       "  </tbody>\n",
       "</table>\n",
       "</div>"
      ],
      "text/plain": [
       "Education       College  Not college\n",
       "Marital_status                      \n",
       "Married             117          275\n",
       "Not married         109          197"
      ]
     },
     "execution_count": 11,
     "metadata": {},
     "output_type": "execute_result"
    }
   ],
   "source": [
    "pd.crosstab(dx.Marital_status, dx.Education)"
   ]
  },
  {
   "cell_type": "code",
   "execution_count": 12,
   "id": "4a78792b",
   "metadata": {
    "execution": {
     "iopub.execute_input": "2022-02-03T08:54:53.493230Z",
     "iopub.status.busy": "2022-02-03T08:54:53.491815Z",
     "iopub.status.idle": "2022-02-03T08:54:53.508186Z",
     "shell.execute_reply": "2022-02-03T08:54:53.508570Z",
     "shell.execute_reply.started": "2022-02-03T08:27:00.863424Z"
    },
    "papermill": {
     "duration": 0.061111,
     "end_time": "2022-02-03T08:54:53.508717",
     "exception": false,
     "start_time": "2022-02-03T08:54:53.447606",
     "status": "completed"
    },
    "tags": []
   },
   "outputs": [
    {
     "data": {
      "text/html": [
       "<div>\n",
       "<style scoped>\n",
       "    .dataframe tbody tr th:only-of-type {\n",
       "        vertical-align: middle;\n",
       "    }\n",
       "\n",
       "    .dataframe tbody tr th {\n",
       "        vertical-align: top;\n",
       "    }\n",
       "\n",
       "    .dataframe thead th {\n",
       "        text-align: right;\n",
       "    }\n",
       "</style>\n",
       "<table border=\"1\" class=\"dataframe\">\n",
       "  <thead>\n",
       "    <tr style=\"text-align: right;\">\n",
       "      <th></th>\n",
       "      <th>proportion</th>\n",
       "      <th>size</th>\n",
       "    </tr>\n",
       "    <tr>\n",
       "      <th>Marital_status</th>\n",
       "      <th></th>\n",
       "      <th></th>\n",
       "    </tr>\n",
       "  </thead>\n",
       "  <tbody>\n",
       "    <tr>\n",
       "      <th>Married</th>\n",
       "      <td>0.298469</td>\n",
       "      <td>392</td>\n",
       "    </tr>\n",
       "    <tr>\n",
       "      <th>Not married</th>\n",
       "      <td>0.356209</td>\n",
       "      <td>306</td>\n",
       "    </tr>\n",
       "  </tbody>\n",
       "</table>\n",
       "</div>"
      ],
      "text/plain": [
       "                proportion  size\n",
       "Marital_status                  \n",
       "Married           0.298469   392\n",
       "Not married       0.356209   306"
      ]
     },
     "execution_count": 12,
     "metadata": {},
     "output_type": "execute_result"
    }
   ],
   "source": [
    "dz = dx.groupby(dx.Marital_status).agg({'Education': [lambda x : np.mean(x == 'College'), np.size]})\n",
    "dz.columns = ['proportion','size']\n",
    "dz"
   ]
  },
  {
   "cell_type": "code",
   "execution_count": 13,
   "id": "0330894d",
   "metadata": {
    "execution": {
     "iopub.execute_input": "2022-02-03T08:54:53.601020Z",
     "iopub.status.busy": "2022-02-03T08:54:53.598714Z",
     "iopub.status.idle": "2022-02-03T08:54:53.604123Z",
     "shell.execute_reply": "2022-02-03T08:54:53.604533Z",
     "shell.execute_reply.started": "2022-02-03T08:27:00.878928Z"
    },
    "papermill": {
     "duration": 0.053231,
     "end_time": "2022-02-03T08:54:53.604680",
     "exception": false,
     "start_time": "2022-02-03T08:54:53.551449",
     "status": "completed"
    },
    "tags": []
   },
   "outputs": [
    {
     "data": {
      "text/plain": [
       "0.29846938775510207"
      ]
     },
     "execution_count": 13,
     "metadata": {},
     "output_type": "execute_result"
    }
   ],
   "source": [
    "# Proportion of married (1) women age 35-50 who finished college (4)\n",
    "proportion_married = dz.iloc[0,0]\n",
    "proportion_married"
   ]
  },
  {
   "cell_type": "code",
   "execution_count": 14,
   "id": "3e7bf411",
   "metadata": {
    "execution": {
     "iopub.execute_input": "2022-02-03T08:54:53.692919Z",
     "iopub.status.busy": "2022-02-03T08:54:53.692387Z",
     "iopub.status.idle": "2022-02-03T08:54:53.697605Z",
     "shell.execute_reply": "2022-02-03T08:54:53.698010Z",
     "shell.execute_reply.started": "2022-02-03T08:27:00.885757Z"
    },
    "papermill": {
     "duration": 0.051434,
     "end_time": "2022-02-03T08:54:53.698156",
     "exception": false,
     "start_time": "2022-02-03T08:54:53.646722",
     "status": "completed"
    },
    "tags": []
   },
   "outputs": [
    {
     "data": {
      "text/plain": [
       "0.20938541232819657"
      ]
     },
     "execution_count": 14,
     "metadata": {},
     "output_type": "execute_result"
    }
   ],
   "source": [
    "# Standard error of married\n",
    "se_married=proportion_married*(1-proportion_married)\n",
    "se_married"
   ]
  },
  {
   "cell_type": "code",
   "execution_count": 15,
   "id": "73febb07",
   "metadata": {
    "execution": {
     "iopub.execute_input": "2022-02-03T08:54:53.790204Z",
     "iopub.status.busy": "2022-02-03T08:54:53.789677Z",
     "iopub.status.idle": "2022-02-03T08:54:53.793881Z",
     "shell.execute_reply": "2022-02-03T08:54:53.793390Z",
     "shell.execute_reply.started": "2022-02-03T08:27:00.901267Z"
    },
    "papermill": {
     "duration": 0.053022,
     "end_time": "2022-02-03T08:54:53.794023",
     "exception": false,
     "start_time": "2022-02-03T08:54:53.741001",
     "status": "completed"
    },
    "tags": []
   },
   "outputs": [
    {
     "data": {
      "text/plain": [
       "392"
      ]
     },
     "execution_count": 15,
     "metadata": {},
     "output_type": "execute_result"
    }
   ],
   "source": [
    "n_married = dz.iloc[0,1]\n",
    "n_married"
   ]
  },
  {
   "cell_type": "code",
   "execution_count": 16,
   "id": "787fd51c",
   "metadata": {
    "execution": {
     "iopub.execute_input": "2022-02-03T08:54:53.882773Z",
     "iopub.status.busy": "2022-02-03T08:54:53.882289Z",
     "iopub.status.idle": "2022-02-03T08:54:53.888242Z",
     "shell.execute_reply": "2022-02-03T08:54:53.888765Z",
     "shell.execute_reply.started": "2022-02-03T08:27:00.915375Z"
    },
    "papermill": {
     "duration": 0.05236,
     "end_time": "2022-02-03T08:54:53.888967",
     "exception": false,
     "start_time": "2022-02-03T08:54:53.836607",
     "status": "completed"
    },
    "tags": []
   },
   "outputs": [
    {
     "name": "stdout",
     "output_type": "stream",
     "text": [
      "Lower Boundary : 0.253170634562367\n",
      "Upper Boundary : 0.34376814094783714\n"
     ]
    }
   ],
   "source": [
    "# Calculate the boundaries for married female age 35-50 \n",
    "lbc_married =   proportion_married-1.96*np.sqrt((se_married/n_married))\n",
    "ubc_married =  proportion_married+1.96*np.sqrt((se_married/n_married))\n",
    "print('Lower Boundary :',lbc_married)\n",
    "print('Upper Boundary :',ubc_married)"
   ]
  },
  {
   "cell_type": "code",
   "execution_count": 17,
   "id": "54faf844",
   "metadata": {
    "execution": {
     "iopub.execute_input": "2022-02-03T08:54:54.028633Z",
     "iopub.status.busy": "2022-02-03T08:54:54.027905Z",
     "iopub.status.idle": "2022-02-03T08:54:54.030633Z",
     "shell.execute_reply": "2022-02-03T08:54:54.031145Z",
     "shell.execute_reply.started": "2022-02-03T08:27:00.928646Z"
    },
    "papermill": {
     "duration": 0.076268,
     "end_time": "2022-02-03T08:54:54.031295",
     "exception": false,
     "start_time": "2022-02-03T08:54:53.955027",
     "status": "completed"
    },
    "tags": []
   },
   "outputs": [
    {
     "data": {
      "text/plain": [
       "0.3562091503267974"
      ]
     },
     "execution_count": 17,
     "metadata": {},
     "output_type": "execute_result"
    }
   ],
   "source": [
    "# Proportion of married (1) women age 35-50 who finished college (4)\n",
    "proportion_not_married = dz.iloc[1,0]\n",
    "proportion_not_married"
   ]
  },
  {
   "cell_type": "code",
   "execution_count": 18,
   "id": "59dd3b5f",
   "metadata": {
    "execution": {
     "iopub.execute_input": "2022-02-03T08:54:54.168727Z",
     "iopub.status.busy": "2022-02-03T08:54:54.168080Z",
     "iopub.status.idle": "2022-02-03T08:54:54.170759Z",
     "shell.execute_reply": "2022-02-03T08:54:54.171294Z",
     "shell.execute_reply.started": "2022-02-03T08:27:00.945207Z"
    },
    "papermill": {
     "duration": 0.074235,
     "end_time": "2022-02-03T08:54:54.171448",
     "exception": false,
     "start_time": "2022-02-03T08:54:54.097213",
     "status": "completed"
    },
    "tags": []
   },
   "outputs": [
    {
     "data": {
      "text/plain": [
       "0.22932419155025843"
      ]
     },
     "execution_count": 18,
     "metadata": {},
     "output_type": "execute_result"
    }
   ],
   "source": [
    "# Standard error of not married\n",
    "se_not_married=proportion_not_married*(1-proportion_not_married)\n",
    "se_not_married"
   ]
  },
  {
   "cell_type": "code",
   "execution_count": 19,
   "id": "9196b79d",
   "metadata": {
    "execution": {
     "iopub.execute_input": "2022-02-03T08:54:54.309799Z",
     "iopub.status.busy": "2022-02-03T08:54:54.308960Z",
     "iopub.status.idle": "2022-02-03T08:54:54.314425Z",
     "shell.execute_reply": "2022-02-03T08:54:54.314955Z",
     "shell.execute_reply.started": "2022-02-03T08:27:00.961426Z"
    },
    "papermill": {
     "duration": 0.076315,
     "end_time": "2022-02-03T08:54:54.315129",
     "exception": false,
     "start_time": "2022-02-03T08:54:54.238814",
     "status": "completed"
    },
    "tags": []
   },
   "outputs": [
    {
     "data": {
      "text/plain": [
       "306"
      ]
     },
     "execution_count": 19,
     "metadata": {},
     "output_type": "execute_result"
    }
   ],
   "source": [
    "n_not_married = dz.iloc[1,1]\n",
    "n_not_married"
   ]
  },
  {
   "cell_type": "code",
   "execution_count": 20,
   "id": "eee294ef",
   "metadata": {
    "execution": {
     "iopub.execute_input": "2022-02-03T08:54:54.452627Z",
     "iopub.status.busy": "2022-02-03T08:54:54.451848Z",
     "iopub.status.idle": "2022-02-03T08:54:54.458296Z",
     "shell.execute_reply": "2022-02-03T08:54:54.458773Z",
     "shell.execute_reply.started": "2022-02-03T08:27:00.973848Z"
    },
    "papermill": {
     "duration": 0.076624,
     "end_time": "2022-02-03T08:54:54.458964",
     "exception": false,
     "start_time": "2022-02-03T08:54:54.382340",
     "status": "completed"
    },
    "tags": []
   },
   "outputs": [
    {
     "name": "stdout",
     "output_type": "stream",
     "text": [
      "Lower Boundary: 0.3025529031876515\n",
      "Upper Boundary: 0.4098653974659433\n"
     ]
    }
   ],
   "source": [
    "# Calculate the boundaries for married female age 35-50 \n",
    "lbc_unmarried = proportion_not_married-1.96*np.sqrt((se_not_married/n_not_married))\n",
    "ubc_unmarried = proportion_not_married+1.96*np.sqrt((se_not_married/n_not_married))\n",
    "print('Lower Boundary:', lbc_unmarried)\n",
    "print('Upper Boundary:', ubc_unmarried)"
   ]
  },
  {
   "cell_type": "markdown",
   "id": "7d7fed98",
   "metadata": {
    "papermill": {
     "duration": 0.068029,
     "end_time": "2022-02-03T08:54:54.597155",
     "exception": false,
     "start_time": "2022-02-03T08:54:54.529126",
     "status": "completed"
    },
    "tags": []
   },
   "source": [
    "**Q1a.** Identify which of the two confidence intervals is wider, and explain why this is the case."
   ]
  },
  {
   "cell_type": "code",
   "execution_count": 21,
   "id": "c4c2f50e",
   "metadata": {
    "execution": {
     "iopub.execute_input": "2022-02-03T08:54:54.738695Z",
     "iopub.status.busy": "2022-02-03T08:54:54.738105Z",
     "iopub.status.idle": "2022-02-03T08:54:54.741808Z",
     "shell.execute_reply": "2022-02-03T08:54:54.742295Z",
     "shell.execute_reply.started": "2022-02-03T08:27:00.987414Z"
    },
    "papermill": {
     "duration": 0.075549,
     "end_time": "2022-02-03T08:54:54.742452",
     "exception": false,
     "start_time": "2022-02-03T08:54:54.666903",
     "status": "completed"
    },
    "tags": []
   },
   "outputs": [
    {
     "name": "stdout",
     "output_type": "stream",
     "text": [
      "Married interval: 0.09059750638547015\n",
      "Unmarried interval: 0.10731249427829181\n"
     ]
    }
   ],
   "source": [
    "# Which one is wider?\n",
    "married = ubc_married - lbc_married\n",
    "unmarried = ubc_unmarried - lbc_unmarried\n",
    "print('Married interval:', married)\n",
    "print('Unmarried interval:', unmarried)"
   ]
  },
  {
   "cell_type": "markdown",
   "id": "44b25c22",
   "metadata": {
    "papermill": {
     "duration": 0.067274,
     "end_time": "2022-02-03T08:54:54.878553",
     "exception": false,
     "start_time": "2022-02-03T08:54:54.811279",
     "status": "completed"
    },
    "tags": []
   },
   "source": [
    "**Answer** : The wider interval of confidence interval is in the unmarried sample. The wider interval happen because the number of sample is fewer and the standard error has a bigger value."
   ]
  },
  {
   "cell_type": "markdown",
   "id": "d44a10a8",
   "metadata": {
    "papermill": {
     "duration": 0.068703,
     "end_time": "2022-02-03T08:54:55.014897",
     "exception": false,
     "start_time": "2022-02-03T08:54:54.946194",
     "status": "completed"
    },
    "tags": []
   },
   "source": [
    "**Conclusion :**\n"
   ]
  },
  {
   "cell_type": "markdown",
   "id": "6b10ef6a",
   "metadata": {
    "papermill": {
     "duration": 0.067779,
     "end_time": "2022-02-03T08:54:55.150874",
     "exception": false,
     "start_time": "2022-02-03T08:54:55.083095",
     "status": "completed"
    },
    "tags": []
   },
   "source": [
    "## Problem 2\n",
    "\n",
    "1. Construct a 95% confidence interval for the proportion of smokers who are female. \n",
    "2. Construct a 95% confidence interval for the proportion of smokers who are male. \n",
    "3. Construct a 95% confidence interval for the **difference** between those two gender proportions."
   ]
  },
  {
   "cell_type": "code",
   "execution_count": 22,
   "id": "4a370d29",
   "metadata": {
    "execution": {
     "iopub.execute_input": "2022-02-03T08:54:55.294280Z",
     "iopub.status.busy": "2022-02-03T08:54:55.293526Z",
     "iopub.status.idle": "2022-02-03T08:54:55.296101Z",
     "shell.execute_reply": "2022-02-03T08:54:55.295564Z",
     "shell.execute_reply.started": "2022-02-03T08:27:01.001276Z"
    },
    "papermill": {
     "duration": 0.077534,
     "end_time": "2022-02-03T08:54:55.296235",
     "exception": false,
     "start_time": "2022-02-03T08:54:55.218701",
     "status": "completed"
    },
    "tags": []
   },
   "outputs": [],
   "source": [
    "# Proportion of female smoker with 95% CI and the difference between proportion of man and woman smoker with 95% CI.\n",
    "\n",
    "da[['RIAGENDR','SMQ020']].isnull().sum() # no null value, safe\n",
    "ds = da[['RIAGENDR','SMQ020']]"
   ]
  },
  {
   "cell_type": "code",
   "execution_count": 23,
   "id": "c529c570",
   "metadata": {
    "execution": {
     "iopub.execute_input": "2022-02-03T08:54:55.434541Z",
     "iopub.status.busy": "2022-02-03T08:54:55.433929Z",
     "iopub.status.idle": "2022-02-03T08:54:55.442185Z",
     "shell.execute_reply": "2022-02-03T08:54:55.441500Z",
     "shell.execute_reply.started": "2022-02-03T08:27:01.056977Z"
    },
    "papermill": {
     "duration": 0.077994,
     "end_time": "2022-02-03T08:54:55.442322",
     "exception": false,
     "start_time": "2022-02-03T08:54:55.364328",
     "status": "completed"
    },
    "tags": []
   },
   "outputs": [
    {
     "data": {
      "text/html": [
       "<div>\n",
       "<style scoped>\n",
       "    .dataframe tbody tr th:only-of-type {\n",
       "        vertical-align: middle;\n",
       "    }\n",
       "\n",
       "    .dataframe tbody tr th {\n",
       "        vertical-align: top;\n",
       "    }\n",
       "\n",
       "    .dataframe thead th {\n",
       "        text-align: right;\n",
       "    }\n",
       "</style>\n",
       "<table border=\"1\" class=\"dataframe\">\n",
       "  <thead>\n",
       "    <tr style=\"text-align: right;\">\n",
       "      <th></th>\n",
       "      <th>Gender</th>\n",
       "      <th>Smoking</th>\n",
       "    </tr>\n",
       "  </thead>\n",
       "  <tbody>\n",
       "    <tr>\n",
       "      <th>0</th>\n",
       "      <td>1</td>\n",
       "      <td>1</td>\n",
       "    </tr>\n",
       "    <tr>\n",
       "      <th>1</th>\n",
       "      <td>1</td>\n",
       "      <td>1</td>\n",
       "    </tr>\n",
       "    <tr>\n",
       "      <th>2</th>\n",
       "      <td>1</td>\n",
       "      <td>1</td>\n",
       "    </tr>\n",
       "    <tr>\n",
       "      <th>3</th>\n",
       "      <td>2</td>\n",
       "      <td>2</td>\n",
       "    </tr>\n",
       "    <tr>\n",
       "      <th>4</th>\n",
       "      <td>2</td>\n",
       "      <td>2</td>\n",
       "    </tr>\n",
       "  </tbody>\n",
       "</table>\n",
       "</div>"
      ],
      "text/plain": [
       "   Gender  Smoking\n",
       "0       1        1\n",
       "1       1        1\n",
       "2       1        1\n",
       "3       2        2\n",
       "4       2        2"
      ]
     },
     "execution_count": 23,
     "metadata": {},
     "output_type": "execute_result"
    }
   ],
   "source": [
    "ds.columns = ['Gender','Smoking']\n",
    "ds.head()"
   ]
  },
  {
   "cell_type": "code",
   "execution_count": 24,
   "id": "ba45c5ea",
   "metadata": {
    "execution": {
     "iopub.execute_input": "2022-02-03T08:54:55.587799Z",
     "iopub.status.busy": "2022-02-03T08:54:55.587009Z",
     "iopub.status.idle": "2022-02-03T08:54:55.590953Z",
     "shell.execute_reply": "2022-02-03T08:54:55.590408Z",
     "shell.execute_reply.started": "2022-02-03T08:27:01.126255Z"
    },
    "papermill": {
     "duration": 0.080732,
     "end_time": "2022-02-03T08:54:55.591083",
     "exception": false,
     "start_time": "2022-02-03T08:54:55.510351",
     "status": "completed"
    },
    "tags": []
   },
   "outputs": [
    {
     "data": {
      "text/html": [
       "<div>\n",
       "<style scoped>\n",
       "    .dataframe tbody tr th:only-of-type {\n",
       "        vertical-align: middle;\n",
       "    }\n",
       "\n",
       "    .dataframe tbody tr th {\n",
       "        vertical-align: top;\n",
       "    }\n",
       "\n",
       "    .dataframe thead th {\n",
       "        text-align: right;\n",
       "    }\n",
       "</style>\n",
       "<table border=\"1\" class=\"dataframe\">\n",
       "  <thead>\n",
       "    <tr style=\"text-align: right;\">\n",
       "      <th></th>\n",
       "      <th>Gender</th>\n",
       "      <th>Smoking</th>\n",
       "    </tr>\n",
       "  </thead>\n",
       "  <tbody>\n",
       "    <tr>\n",
       "      <th>0</th>\n",
       "      <td>Male</td>\n",
       "      <td>1</td>\n",
       "    </tr>\n",
       "    <tr>\n",
       "      <th>1</th>\n",
       "      <td>Male</td>\n",
       "      <td>1</td>\n",
       "    </tr>\n",
       "    <tr>\n",
       "      <th>2</th>\n",
       "      <td>Male</td>\n",
       "      <td>1</td>\n",
       "    </tr>\n",
       "    <tr>\n",
       "      <th>3</th>\n",
       "      <td>Female</td>\n",
       "      <td>2</td>\n",
       "    </tr>\n",
       "    <tr>\n",
       "      <th>4</th>\n",
       "      <td>Female</td>\n",
       "      <td>2</td>\n",
       "    </tr>\n",
       "  </tbody>\n",
       "</table>\n",
       "</div>"
      ],
      "text/plain": [
       "   Gender  Smoking\n",
       "0    Male        1\n",
       "1    Male        1\n",
       "2    Male        1\n",
       "3  Female        2\n",
       "4  Female        2"
      ]
     },
     "execution_count": 24,
     "metadata": {},
     "output_type": "execute_result"
    }
   ],
   "source": [
    "ds.Gender.unique()\n",
    "ds['Gender'] = ds.Gender.replace({1 : 'Male', 2 : 'Female'})\n",
    "ds.head()"
   ]
  },
  {
   "cell_type": "code",
   "execution_count": 25,
   "id": "32213708",
   "metadata": {
    "execution": {
     "iopub.execute_input": "2022-02-03T08:54:55.731734Z",
     "iopub.status.busy": "2022-02-03T08:54:55.731079Z",
     "iopub.status.idle": "2022-02-03T08:54:55.742418Z",
     "shell.execute_reply": "2022-02-03T08:54:55.743600Z",
     "shell.execute_reply.started": "2022-02-03T08:27:01.214724Z"
    },
    "papermill": {
     "duration": 0.084946,
     "end_time": "2022-02-03T08:54:55.743888",
     "exception": false,
     "start_time": "2022-02-03T08:54:55.658942",
     "status": "completed"
    },
    "tags": []
   },
   "outputs": [
    {
     "data": {
      "text/html": [
       "<div>\n",
       "<style scoped>\n",
       "    .dataframe tbody tr th:only-of-type {\n",
       "        vertical-align: middle;\n",
       "    }\n",
       "\n",
       "    .dataframe tbody tr th {\n",
       "        vertical-align: top;\n",
       "    }\n",
       "\n",
       "    .dataframe thead th {\n",
       "        text-align: right;\n",
       "    }\n",
       "</style>\n",
       "<table border=\"1\" class=\"dataframe\">\n",
       "  <thead>\n",
       "    <tr style=\"text-align: right;\">\n",
       "      <th></th>\n",
       "      <th>Gender</th>\n",
       "      <th>Smoking</th>\n",
       "    </tr>\n",
       "  </thead>\n",
       "  <tbody>\n",
       "    <tr>\n",
       "      <th>0</th>\n",
       "      <td>Male</td>\n",
       "      <td>Yes</td>\n",
       "    </tr>\n",
       "    <tr>\n",
       "      <th>1</th>\n",
       "      <td>Male</td>\n",
       "      <td>Yes</td>\n",
       "    </tr>\n",
       "    <tr>\n",
       "      <th>2</th>\n",
       "      <td>Male</td>\n",
       "      <td>Yes</td>\n",
       "    </tr>\n",
       "    <tr>\n",
       "      <th>3</th>\n",
       "      <td>Female</td>\n",
       "      <td>No</td>\n",
       "    </tr>\n",
       "    <tr>\n",
       "      <th>4</th>\n",
       "      <td>Female</td>\n",
       "      <td>No</td>\n",
       "    </tr>\n",
       "  </tbody>\n",
       "</table>\n",
       "</div>"
      ],
      "text/plain": [
       "   Gender Smoking\n",
       "0    Male     Yes\n",
       "1    Male     Yes\n",
       "2    Male     Yes\n",
       "3  Female      No\n",
       "4  Female      No"
      ]
     },
     "execution_count": 25,
     "metadata": {},
     "output_type": "execute_result"
    }
   ],
   "source": [
    "ds.Smoking.unique()\n",
    "ds['Smoking'] = ds.Smoking.replace({1 : 'Yes', 2 : 'No', 7 : np.nan, 9 : np.nan})\n",
    "ds.head()"
   ]
  },
  {
   "cell_type": "code",
   "execution_count": 26,
   "id": "f0d6823d",
   "metadata": {
    "execution": {
     "iopub.execute_input": "2022-02-03T08:54:55.886773Z",
     "iopub.status.busy": "2022-02-03T08:54:55.886147Z",
     "iopub.status.idle": "2022-02-03T08:54:55.896434Z",
     "shell.execute_reply": "2022-02-03T08:54:55.897047Z",
     "shell.execute_reply.started": "2022-02-03T08:27:01.232423Z"
    },
    "papermill": {
     "duration": 0.082848,
     "end_time": "2022-02-03T08:54:55.897216",
     "exception": false,
     "start_time": "2022-02-03T08:54:55.814368",
     "status": "completed"
    },
    "tags": []
   },
   "outputs": [
    {
     "data": {
      "text/html": [
       "<div>\n",
       "<style scoped>\n",
       "    .dataframe tbody tr th:only-of-type {\n",
       "        vertical-align: middle;\n",
       "    }\n",
       "\n",
       "    .dataframe tbody tr th {\n",
       "        vertical-align: top;\n",
       "    }\n",
       "\n",
       "    .dataframe thead th {\n",
       "        text-align: right;\n",
       "    }\n",
       "</style>\n",
       "<table border=\"1\" class=\"dataframe\">\n",
       "  <thead>\n",
       "    <tr style=\"text-align: right;\">\n",
       "      <th></th>\n",
       "      <th>Gender</th>\n",
       "      <th>Smoking</th>\n",
       "    </tr>\n",
       "  </thead>\n",
       "  <tbody>\n",
       "    <tr>\n",
       "      <th>0</th>\n",
       "      <td>Male</td>\n",
       "      <td>Yes</td>\n",
       "    </tr>\n",
       "    <tr>\n",
       "      <th>1</th>\n",
       "      <td>Male</td>\n",
       "      <td>Yes</td>\n",
       "    </tr>\n",
       "    <tr>\n",
       "      <th>2</th>\n",
       "      <td>Male</td>\n",
       "      <td>Yes</td>\n",
       "    </tr>\n",
       "    <tr>\n",
       "      <th>3</th>\n",
       "      <td>Female</td>\n",
       "      <td>No</td>\n",
       "    </tr>\n",
       "    <tr>\n",
       "      <th>4</th>\n",
       "      <td>Female</td>\n",
       "      <td>No</td>\n",
       "    </tr>\n",
       "  </tbody>\n",
       "</table>\n",
       "</div>"
      ],
      "text/plain": [
       "   Gender Smoking\n",
       "0    Male     Yes\n",
       "1    Male     Yes\n",
       "2    Male     Yes\n",
       "3  Female      No\n",
       "4  Female      No"
      ]
     },
     "execution_count": 26,
     "metadata": {},
     "output_type": "execute_result"
    }
   ],
   "source": [
    "ds.dropna(inplace = True)\n",
    "ds.head()"
   ]
  },
  {
   "cell_type": "code",
   "execution_count": 27,
   "id": "efc79bcc",
   "metadata": {
    "execution": {
     "iopub.execute_input": "2022-02-03T08:54:56.041651Z",
     "iopub.status.busy": "2022-02-03T08:54:56.041019Z",
     "iopub.status.idle": "2022-02-03T08:54:56.056128Z",
     "shell.execute_reply": "2022-02-03T08:54:56.056639Z",
     "shell.execute_reply.started": "2022-02-03T08:27:01.261460Z"
    },
    "papermill": {
     "duration": 0.08949,
     "end_time": "2022-02-03T08:54:56.056804",
     "exception": false,
     "start_time": "2022-02-03T08:54:55.967314",
     "status": "completed"
    },
    "tags": []
   },
   "outputs": [
    {
     "data": {
      "text/html": [
       "<div>\n",
       "<style scoped>\n",
       "    .dataframe tbody tr th:only-of-type {\n",
       "        vertical-align: middle;\n",
       "    }\n",
       "\n",
       "    .dataframe tbody tr th {\n",
       "        vertical-align: top;\n",
       "    }\n",
       "\n",
       "    .dataframe thead th {\n",
       "        text-align: right;\n",
       "    }\n",
       "</style>\n",
       "<table border=\"1\" class=\"dataframe\">\n",
       "  <thead>\n",
       "    <tr style=\"text-align: right;\">\n",
       "      <th>Gender</th>\n",
       "      <th>Female</th>\n",
       "      <th>Male</th>\n",
       "    </tr>\n",
       "    <tr>\n",
       "      <th>Smoking</th>\n",
       "      <th></th>\n",
       "      <th></th>\n",
       "    </tr>\n",
       "  </thead>\n",
       "  <tbody>\n",
       "    <tr>\n",
       "      <th>No</th>\n",
       "      <td>2066</td>\n",
       "      <td>1340</td>\n",
       "    </tr>\n",
       "    <tr>\n",
       "      <th>Yes</th>\n",
       "      <td>906</td>\n",
       "      <td>1413</td>\n",
       "    </tr>\n",
       "  </tbody>\n",
       "</table>\n",
       "</div>"
      ],
      "text/plain": [
       "Gender   Female  Male\n",
       "Smoking              \n",
       "No         2066  1340\n",
       "Yes         906  1413"
      ]
     },
     "execution_count": 27,
     "metadata": {},
     "output_type": "execute_result"
    }
   ],
   "source": [
    "pd.crosstab(ds.Smoking, ds.Gender)"
   ]
  },
  {
   "cell_type": "code",
   "execution_count": 28,
   "id": "d03b8a96",
   "metadata": {
    "execution": {
     "iopub.execute_input": "2022-02-03T08:54:56.210114Z",
     "iopub.status.busy": "2022-02-03T08:54:56.209417Z",
     "iopub.status.idle": "2022-02-03T08:54:56.220982Z",
     "shell.execute_reply": "2022-02-03T08:54:56.220384Z",
     "shell.execute_reply.started": "2022-02-03T08:27:01.305109Z"
    },
    "papermill": {
     "duration": 0.091147,
     "end_time": "2022-02-03T08:54:56.221133",
     "exception": false,
     "start_time": "2022-02-03T08:54:56.129986",
     "status": "completed"
    },
    "tags": []
   },
   "outputs": [
    {
     "data": {
      "text/html": [
       "<div>\n",
       "<style scoped>\n",
       "    .dataframe tbody tr th:only-of-type {\n",
       "        vertical-align: middle;\n",
       "    }\n",
       "\n",
       "    .dataframe tbody tr th {\n",
       "        vertical-align: top;\n",
       "    }\n",
       "\n",
       "    .dataframe thead th {\n",
       "        text-align: right;\n",
       "    }\n",
       "</style>\n",
       "<table border=\"1\" class=\"dataframe\">\n",
       "  <thead>\n",
       "    <tr style=\"text-align: right;\">\n",
       "      <th></th>\n",
       "      <th>proportion</th>\n",
       "      <th>size</th>\n",
       "    </tr>\n",
       "    <tr>\n",
       "      <th>Gender</th>\n",
       "      <th></th>\n",
       "      <th></th>\n",
       "    </tr>\n",
       "  </thead>\n",
       "  <tbody>\n",
       "    <tr>\n",
       "      <th>Female</th>\n",
       "      <td>0.304845</td>\n",
       "      <td>2972</td>\n",
       "    </tr>\n",
       "    <tr>\n",
       "      <th>Male</th>\n",
       "      <td>0.513258</td>\n",
       "      <td>2753</td>\n",
       "    </tr>\n",
       "  </tbody>\n",
       "</table>\n",
       "</div>"
      ],
      "text/plain": [
       "        proportion  size\n",
       "Gender                  \n",
       "Female    0.304845  2972\n",
       "Male      0.513258  2753"
      ]
     },
     "execution_count": 28,
     "metadata": {},
     "output_type": "execute_result"
    }
   ],
   "source": [
    "z = ds.groupby(ds.Gender).agg({'Smoking' : [lambda x: np.mean(x == 'Yes'), np.size]})\n",
    "z.columns = ['proportion', 'size']\n",
    "z"
   ]
  },
  {
   "cell_type": "code",
   "execution_count": 29,
   "id": "9f49302a",
   "metadata": {
    "execution": {
     "iopub.execute_input": "2022-02-03T08:54:56.370647Z",
     "iopub.status.busy": "2022-02-03T08:54:56.370016Z",
     "iopub.status.idle": "2022-02-03T08:54:56.371904Z",
     "shell.execute_reply": "2022-02-03T08:54:56.372420Z",
     "shell.execute_reply.started": "2022-02-03T08:27:01.322268Z"
    },
    "papermill": {
     "duration": 0.079396,
     "end_time": "2022-02-03T08:54:56.372590",
     "exception": false,
     "start_time": "2022-02-03T08:54:56.293194",
     "status": "completed"
    },
    "tags": []
   },
   "outputs": [],
   "source": [
    "#Female summary\n",
    "nf = z.iloc[0,1]\n",
    "pf = z.iloc[0,0] "
   ]
  },
  {
   "cell_type": "code",
   "execution_count": 30,
   "id": "4527f99f",
   "metadata": {
    "execution": {
     "iopub.execute_input": "2022-02-03T08:54:56.521890Z",
     "iopub.status.busy": "2022-02-03T08:54:56.520965Z",
     "iopub.status.idle": "2022-02-03T08:54:56.526452Z",
     "shell.execute_reply": "2022-02-03T08:54:56.525788Z",
     "shell.execute_reply.started": "2022-02-03T08:27:01.328216Z"
    },
    "papermill": {
     "duration": 0.083058,
     "end_time": "2022-02-03T08:54:56.526586",
     "exception": false,
     "start_time": "2022-02-03T08:54:56.443528",
     "status": "completed"
    },
    "tags": []
   },
   "outputs": [
    {
     "name": "stdout",
     "output_type": "stream",
     "text": [
      "proportion of female smoker: 0.30484522207267833\n",
      "lbc_f: 0.2882949879861214\n",
      "ubc_f: 0.32139545615923526\n"
     ]
    }
   ],
   "source": [
    "# The proportion and lower bound confidence and upper bound confidence for female smoker\n",
    "import statsmodels.api as sm\n",
    "bound_f = sm.stats.proportion_confint(nf *pf, nf)\n",
    "print('proportion of female smoker:', pf)\n",
    "print('lbc_f:', bound_f[0])\n",
    "print('ubc_f:', bound_f[1])"
   ]
  },
  {
   "cell_type": "code",
   "execution_count": 31,
   "id": "debd5c1b",
   "metadata": {
    "execution": {
     "iopub.execute_input": "2022-02-03T08:54:56.675257Z",
     "iopub.status.busy": "2022-02-03T08:54:56.674586Z",
     "iopub.status.idle": "2022-02-03T08:54:56.678594Z",
     "shell.execute_reply": "2022-02-03T08:54:56.678011Z",
     "shell.execute_reply.started": "2022-02-03T08:27:01.341518Z"
    },
    "papermill": {
     "duration": 0.079236,
     "end_time": "2022-02-03T08:54:56.678739",
     "exception": false,
     "start_time": "2022-02-03T08:54:56.599503",
     "status": "completed"
    },
    "tags": []
   },
   "outputs": [],
   "source": [
    "# Male summary\n",
    "nm = z.iloc[1,1]\n",
    "pm = z.iloc[1,0]"
   ]
  },
  {
   "cell_type": "code",
   "execution_count": 32,
   "id": "643ca8ec",
   "metadata": {
    "execution": {
     "iopub.execute_input": "2022-02-03T08:54:56.827272Z",
     "iopub.status.busy": "2022-02-03T08:54:56.826614Z",
     "iopub.status.idle": "2022-02-03T08:54:56.833269Z",
     "shell.execute_reply": "2022-02-03T08:54:56.833909Z",
     "shell.execute_reply.started": "2022-02-03T08:27:01.350620Z"
    },
    "papermill": {
     "duration": 0.083048,
     "end_time": "2022-02-03T08:54:56.834090",
     "exception": false,
     "start_time": "2022-02-03T08:54:56.751042",
     "status": "completed"
    },
    "tags": []
   },
   "outputs": [
    {
     "name": "stdout",
     "output_type": "stream",
     "text": [
      "proportion of male smoker: 0.5132582637123139\n",
      "lbc_f: 0.49458749263718593\n",
      "ubc_f: 0.5319290347874418\n"
     ]
    }
   ],
   "source": [
    "# The proportion and lower bound confidence and upper bound confidence for male smoker\n",
    "bound_m = sm.stats.proportion_confint(nm *pm, nm)\n",
    "print('proportion of male smoker:', pm)\n",
    "print('lbc_f:', bound_m[0])\n",
    "print('ubc_f:', bound_m[1])"
   ]
  },
  {
   "cell_type": "code",
   "execution_count": 33,
   "id": "8d910615",
   "metadata": {
    "execution": {
     "iopub.execute_input": "2022-02-03T08:54:56.982215Z",
     "iopub.status.busy": "2022-02-03T08:54:56.981578Z",
     "iopub.status.idle": "2022-02-03T08:54:56.985628Z",
     "shell.execute_reply": "2022-02-03T08:54:56.986279Z",
     "shell.execute_reply.started": "2022-02-03T08:27:01.365599Z"
    },
    "papermill": {
     "duration": 0.080534,
     "end_time": "2022-02-03T08:54:56.986462",
     "exception": false,
     "start_time": "2022-02-03T08:54:56.905928",
     "status": "completed"
    },
    "tags": []
   },
   "outputs": [],
   "source": [
    "# The difference with interval\n",
    "difference = pm - pf\n",
    "\n",
    "# se_diff\n",
    "se_male = np.sqrt((pm*(1-pm)/nm))\n",
    "se_female = np.sqrt((pf*(1-pf)/nf))\n",
    "se_diff = np.sqrt(se_male**2+se_female**2)\n",
    "\n",
    "#lcb and ucb diff, with 95% CI the z value is 1.96\n",
    "lcb_diff = difference - (1.96*se_diff)\n",
    "ucb_diff = difference + (1.96*se_diff)"
   ]
  },
  {
   "cell_type": "code",
   "execution_count": 34,
   "id": "01451cd4",
   "metadata": {
    "execution": {
     "iopub.execute_input": "2022-02-03T08:54:57.136772Z",
     "iopub.status.busy": "2022-02-03T08:54:57.134628Z",
     "iopub.status.idle": "2022-02-03T08:54:57.141652Z",
     "shell.execute_reply": "2022-02-03T08:54:57.142415Z",
     "shell.execute_reply.started": "2022-02-03T08:27:01.381850Z"
    },
    "papermill": {
     "duration": 0.082526,
     "end_time": "2022-02-03T08:54:57.142601",
     "exception": false,
     "start_time": "2022-02-03T08:54:57.060075",
     "status": "completed"
    },
    "tags": []
   },
   "outputs": [
    {
     "name": "stdout",
     "output_type": "stream",
     "text": [
      "Difference of smoker proportion between male and female: 0.20841304163963553 ± 0.012729881381407434\n",
      "lower bound: 0.18346247413207697\n",
      "upper bound: 0.2333636091471941\n"
     ]
    }
   ],
   "source": [
    "print('Difference of smoker proportion between male and female:', difference, \"±\", se_diff)\n",
    "print('lower bound:', lcb_diff)\n",
    "print('upper bound:', ucb_diff)"
   ]
  },
  {
   "cell_type": "markdown",
   "id": "c154deb7",
   "metadata": {
    "papermill": {
     "duration": 0.047793,
     "end_time": "2022-02-03T08:54:57.240197",
     "exception": false,
     "start_time": "2022-02-03T08:54:57.192404",
     "status": "completed"
    },
    "tags": []
   },
   "source": [
    "**Q2a** Why might it be relevant to report the separate gender proportions **and** the difference between the gender proportions?\n",
    "\n",
    "**Q2b.** How does the width of the confidence interval for the difference between the gender proportions compare to the widths of the confidence intervals for the separate gender proportions?"
   ]
  },
  {
   "cell_type": "markdown",
   "id": "1013571d",
   "metadata": {
    "papermill": {
     "duration": 0.047272,
     "end_time": "2022-02-03T08:54:57.335739",
     "exception": false,
     "start_time": "2022-02-03T08:54:57.288467",
     "status": "completed"
    },
    "tags": []
   },
   "source": [
    "## Problem 3\n",
    "\n",
    "Construct a 95% interval for height ([BMXHT](https://wwwn.cdc.gov/Nchs/Nhanes/2015-2016/BMX_I.htm#BMXHT)) in centimeters.  Then convert height from centimeters to inches by dividing by 2.54, and \n",
    "\n",
    "construct a 95% confidence interval for height in inches.  Finally, convert the endpoints (the lower and upper confidence limits) of the confidence interval from inches to back to centimeters   "
   ]
  },
  {
   "cell_type": "code",
   "execution_count": 35,
   "id": "864f06af",
   "metadata": {
    "execution": {
     "iopub.execute_input": "2022-02-03T08:54:57.434975Z",
     "iopub.status.busy": "2022-02-03T08:54:57.434439Z",
     "iopub.status.idle": "2022-02-03T08:54:57.440957Z",
     "shell.execute_reply": "2022-02-03T08:54:57.441318Z",
     "shell.execute_reply.started": "2022-02-03T08:27:01.397391Z"
    },
    "papermill": {
     "duration": 0.05822,
     "end_time": "2022-02-03T08:54:57.441464",
     "exception": false,
     "start_time": "2022-02-03T08:54:57.383244",
     "status": "completed"
    },
    "tags": []
   },
   "outputs": [
    {
     "data": {
      "text/plain": [
       "0    72.637795\n",
       "1    67.480315\n",
       "2    66.968504\n",
       "3    63.346457\n",
       "4    64.921260\n",
       "Name: BMXHT, dtype: float64"
      ]
     },
     "execution_count": 35,
     "metadata": {},
     "output_type": "execute_result"
    }
   ],
   "source": [
    "dh = da['BMXHT'].dropna() #remove the null\n",
    "dh_inch = dh/2.54 #convert to inch\n",
    "dh_inch.head()"
   ]
  },
  {
   "cell_type": "code",
   "execution_count": 36,
   "id": "c9f41f16",
   "metadata": {
    "execution": {
     "iopub.execute_input": "2022-02-03T08:54:57.545715Z",
     "iopub.status.busy": "2022-02-03T08:54:57.545058Z",
     "iopub.status.idle": "2022-02-03T08:54:57.550135Z",
     "shell.execute_reply": "2022-02-03T08:54:57.550804Z",
     "shell.execute_reply.started": "2022-02-03T08:27:01.411490Z"
    },
    "papermill": {
     "duration": 0.062029,
     "end_time": "2022-02-03T08:54:57.551026",
     "exception": false,
     "start_time": "2022-02-03T08:54:57.488997",
     "status": "completed"
    },
    "tags": []
   },
   "outputs": [],
   "source": [
    "dh_inch_std = dh_inch.std()\n",
    "dh_cm_std = dh.std()\n",
    "n = len(dh)"
   ]
  },
  {
   "cell_type": "code",
   "execution_count": 37,
   "id": "86aeabcb",
   "metadata": {
    "execution": {
     "iopub.execute_input": "2022-02-03T08:54:57.657861Z",
     "iopub.status.busy": "2022-02-03T08:54:57.657314Z",
     "iopub.status.idle": "2022-02-03T08:54:57.662622Z",
     "shell.execute_reply": "2022-02-03T08:54:57.663051Z",
     "shell.execute_reply.started": "2022-02-03T08:27:01.419907Z"
    },
    "papermill": {
     "duration": 0.057418,
     "end_time": "2022-02-03T08:54:57.663194",
     "exception": false,
     "start_time": "2022-02-03T08:54:57.605776",
     "status": "completed"
    },
    "tags": []
   },
   "outputs": [
    {
     "data": {
      "text/plain": [
       "65.41056475555557"
      ]
     },
     "execution_count": 37,
     "metadata": {},
     "output_type": "execute_result"
    }
   ],
   "source": [
    "# Mean in inch\n",
    "height_inch = dh_inch.mean()\n",
    "height_inch"
   ]
  },
  {
   "cell_type": "code",
   "execution_count": 38,
   "id": "99d0c1d3",
   "metadata": {
    "execution": {
     "iopub.execute_input": "2022-02-03T08:54:57.764160Z",
     "iopub.status.busy": "2022-02-03T08:54:57.763508Z",
     "iopub.status.idle": "2022-02-03T08:54:57.768999Z",
     "shell.execute_reply": "2022-02-03T08:54:57.768534Z",
     "shell.execute_reply.started": "2022-02-03T08:27:01.432881Z"
    },
    "papermill": {
     "duration": 0.058303,
     "end_time": "2022-02-03T08:54:57.769118",
     "exception": false,
     "start_time": "2022-02-03T08:54:57.710815",
     "status": "completed"
    },
    "tags": []
   },
   "outputs": [
    {
     "data": {
      "text/plain": [
       "0.052685208096373254"
      ]
     },
     "execution_count": 38,
     "metadata": {},
     "output_type": "execute_result"
    }
   ],
   "source": [
    "# SEM height in inch\n",
    "sem_inch = dh_inch_std/np.sqrt(n)\n",
    "sem_inch"
   ]
  },
  {
   "cell_type": "code",
   "execution_count": 39,
   "id": "8976763d",
   "metadata": {
    "execution": {
     "iopub.execute_input": "2022-02-03T08:54:57.871501Z",
     "iopub.status.busy": "2022-02-03T08:54:57.870744Z",
     "iopub.status.idle": "2022-02-03T08:54:57.873413Z",
     "shell.execute_reply": "2022-02-03T08:54:57.873933Z",
     "shell.execute_reply.started": "2022-02-03T08:27:01.557101Z"
    },
    "papermill": {
     "duration": 0.056241,
     "end_time": "2022-02-03T08:54:57.874113",
     "exception": false,
     "start_time": "2022-02-03T08:54:57.817872",
     "status": "completed"
    },
    "tags": []
   },
   "outputs": [
    {
     "name": "stdout",
     "output_type": "stream",
     "text": [
      "65.30730174768668 65.51382776342446\n"
     ]
    }
   ],
   "source": [
    "# CI 95%, z value 1.96\n",
    "lcb_inch = height_inch - 1.96*sem_inch\n",
    "ucb_inch = height_inch + 1.96*sem_inch\n",
    "print(lcb_inch, ucb_inch)"
   ]
  },
  {
   "cell_type": "code",
   "execution_count": 40,
   "id": "d61a984f",
   "metadata": {
    "execution": {
     "iopub.execute_input": "2022-02-03T08:54:58.029210Z",
     "iopub.status.busy": "2022-02-03T08:54:58.028455Z",
     "iopub.status.idle": "2022-02-03T08:54:58.035705Z",
     "shell.execute_reply": "2022-02-03T08:54:58.036269Z",
     "shell.execute_reply.started": "2022-02-03T08:27:01.565128Z"
    },
    "papermill": {
     "duration": 0.088187,
     "end_time": "2022-02-03T08:54:58.036452",
     "exception": false,
     "start_time": "2022-02-03T08:54:57.948265",
     "status": "completed"
    },
    "tags": []
   },
   "outputs": [
    {
     "data": {
      "text/plain": [
       "(65.30730364516884, 65.51382586594264)"
      ]
     },
     "execution_count": 40,
     "metadata": {},
     "output_type": "execute_result"
    }
   ],
   "source": [
    "# 95% confidence for height in inches \n",
    "import statsmodels.api as sm\n",
    "x = sm.stats.DescrStatsW(dh_inch).zconfint_mean()\n",
    "x"
   ]
  },
  {
   "cell_type": "code",
   "execution_count": 41,
   "id": "53a714b5",
   "metadata": {
    "execution": {
     "iopub.execute_input": "2022-02-03T08:54:58.191753Z",
     "iopub.status.busy": "2022-02-03T08:54:58.190569Z",
     "iopub.status.idle": "2022-02-03T08:54:58.195106Z",
     "shell.execute_reply": "2022-02-03T08:54:58.195651Z",
     "shell.execute_reply.started": "2022-02-03T08:27:01.578666Z"
    },
    "papermill": {
     "duration": 0.083181,
     "end_time": "2022-02-03T08:54:58.195859",
     "exception": false,
     "start_time": "2022-02-03T08:54:58.112678",
     "status": "completed"
    },
    "tags": []
   },
   "outputs": [
    {
     "data": {
      "text/plain": [
       "166.14283447911131"
      ]
     },
     "execution_count": 41,
     "metadata": {},
     "output_type": "execute_result"
    }
   ],
   "source": [
    "# Mean in centimeter\n",
    "height_cm = dh.mean()\n",
    "height_cm"
   ]
  },
  {
   "cell_type": "code",
   "execution_count": 42,
   "id": "cbf22c65",
   "metadata": {
    "execution": {
     "iopub.execute_input": "2022-02-03T08:54:58.353611Z",
     "iopub.status.busy": "2022-02-03T08:54:58.352959Z",
     "iopub.status.idle": "2022-02-03T08:54:58.358379Z",
     "shell.execute_reply": "2022-02-03T08:54:58.359048Z",
     "shell.execute_reply.started": "2022-02-03T08:27:01.589968Z"
    },
    "papermill": {
     "duration": 0.08457,
     "end_time": "2022-02-03T08:54:58.359224",
     "exception": false,
     "start_time": "2022-02-03T08:54:58.274654",
     "status": "completed"
    },
    "tags": []
   },
   "outputs": [
    {
     "data": {
      "text/plain": [
       "0.13382042856478796"
      ]
     },
     "execution_count": 42,
     "metadata": {},
     "output_type": "execute_result"
    }
   ],
   "source": [
    "# SEM height in cm\n",
    "sem_cm = dh_cm_std/np.sqrt(n)\n",
    "sem_cm"
   ]
  },
  {
   "cell_type": "code",
   "execution_count": 43,
   "id": "e5d57030",
   "metadata": {
    "execution": {
     "iopub.execute_input": "2022-02-03T08:54:58.513264Z",
     "iopub.status.busy": "2022-02-03T08:54:58.512598Z",
     "iopub.status.idle": "2022-02-03T08:54:58.518370Z",
     "shell.execute_reply": "2022-02-03T08:54:58.518979Z",
     "shell.execute_reply.started": "2022-02-03T08:27:01.602406Z"
    },
    "papermill": {
     "duration": 0.084188,
     "end_time": "2022-02-03T08:54:58.519183",
     "exception": false,
     "start_time": "2022-02-03T08:54:58.434995",
     "status": "completed"
    },
    "tags": []
   },
   "outputs": [
    {
     "name": "stdout",
     "output_type": "stream",
     "text": [
      "165.88054643912432 166.4051225190983\n"
     ]
    }
   ],
   "source": [
    "# CI 95%, z value 1.96\n",
    "lcb_cm = height_cm - 1.96*sem_cm\n",
    "ucb_cm = height_cm + 1.96*sem_cm\n",
    "print(lcb_cm, ucb_cm)"
   ]
  },
  {
   "cell_type": "code",
   "execution_count": 44,
   "id": "76d9753d",
   "metadata": {
    "execution": {
     "iopub.execute_input": "2022-02-03T08:54:58.676226Z",
     "iopub.status.busy": "2022-02-03T08:54:58.675328Z",
     "iopub.status.idle": "2022-02-03T08:54:58.679437Z",
     "shell.execute_reply": "2022-02-03T08:54:58.680047Z",
     "shell.execute_reply.started": "2022-02-03T08:27:01.612897Z"
    },
    "papermill": {
     "duration": 0.085235,
     "end_time": "2022-02-03T08:54:58.680208",
     "exception": false,
     "start_time": "2022-02-03T08:54:58.594973",
     "status": "completed"
    },
    "tags": []
   },
   "outputs": [
    {
     "data": {
      "text/plain": [
       "(165.88055125872887, 166.40511769949427)"
      ]
     },
     "execution_count": 44,
     "metadata": {},
     "output_type": "execute_result"
    }
   ],
   "source": [
    "# 95% confidence for height in centimeters\n",
    "y = sm.stats.DescrStatsW(dh).zconfint_mean()\n",
    "y"
   ]
  },
  {
   "cell_type": "code",
   "execution_count": 45,
   "id": "d50d806e",
   "metadata": {
    "execution": {
     "iopub.execute_input": "2022-02-03T08:54:58.836508Z",
     "iopub.status.busy": "2022-02-03T08:54:58.835632Z",
     "iopub.status.idle": "2022-02-03T08:54:58.843248Z",
     "shell.execute_reply": "2022-02-03T08:54:58.842545Z",
     "shell.execute_reply.started": "2022-02-03T08:35:47.442925Z"
    },
    "papermill": {
     "duration": 0.087045,
     "end_time": "2022-02-03T08:54:58.843393",
     "exception": false,
     "start_time": "2022-02-03T08:54:58.756348",
     "status": "completed"
    },
    "tags": []
   },
   "outputs": [
    {
     "name": "stdout",
     "output_type": "stream",
     "text": [
      "Mean of height in inch: 65.41056475555557 ± 0.052685208096373254\n",
      "lower bound: 65.30730174768668 upper bound: 65.51382776342446\n"
     ]
    }
   ],
   "source": [
    "print('Mean of height in inch:',height_inch, \"±\", sem_inch)\n",
    "print('lower bound:',lcb_inch,'upper bound:', ucb_inch)"
   ]
  },
  {
   "cell_type": "code",
   "execution_count": 46,
   "id": "8f54a769",
   "metadata": {
    "execution": {
     "iopub.execute_input": "2022-02-03T08:54:59.000011Z",
     "iopub.status.busy": "2022-02-03T08:54:58.999333Z",
     "iopub.status.idle": "2022-02-03T08:54:59.005558Z",
     "shell.execute_reply": "2022-02-03T08:54:59.004954Z",
     "shell.execute_reply.started": "2022-02-03T08:36:11.506258Z"
    },
    "papermill": {
     "duration": 0.086728,
     "end_time": "2022-02-03T08:54:59.005710",
     "exception": false,
     "start_time": "2022-02-03T08:54:58.918982",
     "status": "completed"
    },
    "tags": []
   },
   "outputs": [
    {
     "name": "stdout",
     "output_type": "stream",
     "text": [
      "Mean of height in inch: 166.14283447911131 ± 0.13382042856478796\n",
      "lower bound: 165.88054643912432 upper bound: 166.4051225190983\n"
     ]
    }
   ],
   "source": [
    "print('Mean of height in inch:',height_cm, \"±\", sem_cm)\n",
    "print('lower bound:',lcb_cm,'upper bound:', ucb_cm)"
   ]
  },
  {
   "cell_type": "markdown",
   "id": "bd2f20e1",
   "metadata": {
    "papermill": {
     "duration": 0.076016,
     "end_time": "2022-02-03T08:54:59.158443",
     "exception": false,
     "start_time": "2022-02-03T08:54:59.082427",
     "status": "completed"
    },
    "tags": []
   },
   "source": [
    "__Q3a.__ Describe how the confidence interval constructed in centimeters relates to the confidence interval constructed in inches."
   ]
  },
  {
   "cell_type": "markdown",
   "id": "272e95b8",
   "metadata": {
    "papermill": {
     "duration": 0.076241,
     "end_time": "2022-02-03T08:54:59.310548",
     "exception": false,
     "start_time": "2022-02-03T08:54:59.234307",
     "status": "completed"
    },
    "tags": []
   },
   "source": [
    "### Problem 4\n",
    "Partition the sample based on 10-year age bands, i.e. the resulting groups will consist of people with ages from 18-28, 29-38, etc. Construct 95% confidence intervals for the difference between the mean BMI for females and for males within each age band."
   ]
  },
  {
   "cell_type": "code",
   "execution_count": 47,
   "id": "16d73759",
   "metadata": {
    "execution": {
     "iopub.execute_input": "2022-02-03T08:54:59.468917Z",
     "iopub.status.busy": "2022-02-03T08:54:59.468090Z",
     "iopub.status.idle": "2022-02-03T08:54:59.483373Z",
     "shell.execute_reply": "2022-02-03T08:54:59.483777Z",
     "shell.execute_reply.started": "2022-02-03T08:27:01.628314Z"
    },
    "papermill": {
     "duration": 0.095812,
     "end_time": "2022-02-03T08:54:59.483946",
     "exception": false,
     "start_time": "2022-02-03T08:54:59.388134",
     "status": "completed"
    },
    "tags": []
   },
   "outputs": [
    {
     "data": {
      "text/html": [
       "<div>\n",
       "<style scoped>\n",
       "    .dataframe tbody tr th:only-of-type {\n",
       "        vertical-align: middle;\n",
       "    }\n",
       "\n",
       "    .dataframe tbody tr th {\n",
       "        vertical-align: top;\n",
       "    }\n",
       "\n",
       "    .dataframe thead th {\n",
       "        text-align: right;\n",
       "    }\n",
       "</style>\n",
       "<table border=\"1\" class=\"dataframe\">\n",
       "  <thead>\n",
       "    <tr style=\"text-align: right;\">\n",
       "      <th></th>\n",
       "      <th>Gender</th>\n",
       "      <th>Age</th>\n",
       "      <th>BMI</th>\n",
       "    </tr>\n",
       "  </thead>\n",
       "  <tbody>\n",
       "    <tr>\n",
       "      <th>0</th>\n",
       "      <td>1</td>\n",
       "      <td>62</td>\n",
       "      <td>27.8</td>\n",
       "    </tr>\n",
       "    <tr>\n",
       "      <th>1</th>\n",
       "      <td>1</td>\n",
       "      <td>53</td>\n",
       "      <td>30.8</td>\n",
       "    </tr>\n",
       "    <tr>\n",
       "      <th>2</th>\n",
       "      <td>1</td>\n",
       "      <td>78</td>\n",
       "      <td>28.8</td>\n",
       "    </tr>\n",
       "    <tr>\n",
       "      <th>3</th>\n",
       "      <td>2</td>\n",
       "      <td>56</td>\n",
       "      <td>42.4</td>\n",
       "    </tr>\n",
       "    <tr>\n",
       "      <th>4</th>\n",
       "      <td>2</td>\n",
       "      <td>42</td>\n",
       "      <td>20.3</td>\n",
       "    </tr>\n",
       "  </tbody>\n",
       "</table>\n",
       "</div>"
      ],
      "text/plain": [
       "   Gender  Age   BMI\n",
       "0       1   62  27.8\n",
       "1       1   53  30.8\n",
       "2       1   78  28.8\n",
       "3       2   56  42.4\n",
       "4       2   42  20.3"
      ]
     },
     "execution_count": 47,
     "metadata": {},
     "output_type": "execute_result"
    }
   ],
   "source": [
    "dbmi = da[['RIAGENDR','RIDAGEYR','BMXBMI']]\n",
    "dbmi.dropna(inplace = True) #remove the null value\n",
    "dbmi.columns = ['Gender','Age','BMI']\n",
    "dbmi.head()"
   ]
  },
  {
   "cell_type": "code",
   "execution_count": 48,
   "id": "d5113f70",
   "metadata": {
    "execution": {
     "iopub.execute_input": "2022-02-03T08:54:59.588065Z",
     "iopub.status.busy": "2022-02-03T08:54:59.587558Z",
     "iopub.status.idle": "2022-02-03T08:54:59.608294Z",
     "shell.execute_reply": "2022-02-03T08:54:59.608644Z",
     "shell.execute_reply.started": "2022-02-03T08:27:01.646459Z"
    },
    "papermill": {
     "duration": 0.073975,
     "end_time": "2022-02-03T08:54:59.608783",
     "exception": false,
     "start_time": "2022-02-03T08:54:59.534808",
     "status": "completed"
    },
    "tags": []
   },
   "outputs": [
    {
     "data": {
      "text/html": [
       "<div>\n",
       "<style scoped>\n",
       "    .dataframe tbody tr th:only-of-type {\n",
       "        vertical-align: middle;\n",
       "    }\n",
       "\n",
       "    .dataframe tbody tr th {\n",
       "        vertical-align: top;\n",
       "    }\n",
       "\n",
       "    .dataframe thead th {\n",
       "        text-align: right;\n",
       "    }\n",
       "</style>\n",
       "<table border=\"1\" class=\"dataframe\">\n",
       "  <thead>\n",
       "    <tr style=\"text-align: right;\">\n",
       "      <th></th>\n",
       "      <th>Gender</th>\n",
       "      <th>Age</th>\n",
       "      <th>BMI</th>\n",
       "    </tr>\n",
       "  </thead>\n",
       "  <tbody>\n",
       "    <tr>\n",
       "      <th>0</th>\n",
       "      <td>1</td>\n",
       "      <td>(60, 70]</td>\n",
       "      <td>27.8</td>\n",
       "    </tr>\n",
       "    <tr>\n",
       "      <th>1</th>\n",
       "      <td>1</td>\n",
       "      <td>(50, 60]</td>\n",
       "      <td>30.8</td>\n",
       "    </tr>\n",
       "    <tr>\n",
       "      <th>2</th>\n",
       "      <td>1</td>\n",
       "      <td>(70, 80]</td>\n",
       "      <td>28.8</td>\n",
       "    </tr>\n",
       "    <tr>\n",
       "      <th>3</th>\n",
       "      <td>2</td>\n",
       "      <td>(50, 60]</td>\n",
       "      <td>42.4</td>\n",
       "    </tr>\n",
       "    <tr>\n",
       "      <th>4</th>\n",
       "      <td>2</td>\n",
       "      <td>(40, 50]</td>\n",
       "      <td>20.3</td>\n",
       "    </tr>\n",
       "  </tbody>\n",
       "</table>\n",
       "</div>"
      ],
      "text/plain": [
       "   Gender       Age   BMI\n",
       "0       1  (60, 70]  27.8\n",
       "1       1  (50, 60]  30.8\n",
       "2       1  (70, 80]  28.8\n",
       "3       2  (50, 60]  42.4\n",
       "4       2  (40, 50]  20.3"
      ]
     },
     "execution_count": 48,
     "metadata": {},
     "output_type": "execute_result"
    }
   ],
   "source": [
    "# Sample partition age to 10\n",
    "dbmi['Age'] = pd.cut(dbmi.Age, [10,20,30,40,50,60,70,80])\n",
    "dbmi.head()"
   ]
  },
  {
   "cell_type": "code",
   "execution_count": 49,
   "id": "e3001ac7",
   "metadata": {
    "execution": {
     "iopub.execute_input": "2022-02-03T08:54:59.718772Z",
     "iopub.status.busy": "2022-02-03T08:54:59.718285Z",
     "iopub.status.idle": "2022-02-03T08:54:59.720798Z",
     "shell.execute_reply": "2022-02-03T08:54:59.721319Z",
     "shell.execute_reply.started": "2022-02-03T08:27:01.666768Z"
    },
    "papermill": {
     "duration": 0.060953,
     "end_time": "2022-02-03T08:54:59.721456",
     "exception": false,
     "start_time": "2022-02-03T08:54:59.660503",
     "status": "completed"
    },
    "tags": []
   },
   "outputs": [],
   "source": [
    "dbmi['Gender'] = dbmi['Gender'].replace({1 : 'Male', 2: 'Female'})"
   ]
  },
  {
   "cell_type": "code",
   "execution_count": 50,
   "id": "13ac4f2e",
   "metadata": {
    "execution": {
     "iopub.execute_input": "2022-02-03T08:54:59.826319Z",
     "iopub.status.busy": "2022-02-03T08:54:59.825731Z",
     "iopub.status.idle": "2022-02-03T08:54:59.861486Z",
     "shell.execute_reply": "2022-02-03T08:54:59.861895Z",
     "shell.execute_reply.started": "2022-02-03T08:27:01.674630Z"
    },
    "papermill": {
     "duration": 0.090386,
     "end_time": "2022-02-03T08:54:59.862029",
     "exception": false,
     "start_time": "2022-02-03T08:54:59.771643",
     "status": "completed"
    },
    "tags": []
   },
   "outputs": [
    {
     "data": {
      "text/html": [
       "<div>\n",
       "<style scoped>\n",
       "    .dataframe tbody tr th:only-of-type {\n",
       "        vertical-align: middle;\n",
       "    }\n",
       "\n",
       "    .dataframe tbody tr th {\n",
       "        vertical-align: top;\n",
       "    }\n",
       "\n",
       "    .dataframe thead tr th {\n",
       "        text-align: left;\n",
       "    }\n",
       "\n",
       "    .dataframe thead tr:last-of-type th {\n",
       "        text-align: right;\n",
       "    }\n",
       "</style>\n",
       "<table border=\"1\" class=\"dataframe\">\n",
       "  <thead>\n",
       "    <tr>\n",
       "      <th></th>\n",
       "      <th colspan=\"6\" halign=\"left\">BMI</th>\n",
       "    </tr>\n",
       "    <tr>\n",
       "      <th></th>\n",
       "      <th colspan=\"2\" halign=\"left\">mean</th>\n",
       "      <th colspan=\"2\" halign=\"left\">std</th>\n",
       "      <th colspan=\"2\" halign=\"left\">size</th>\n",
       "    </tr>\n",
       "    <tr>\n",
       "      <th>Gender</th>\n",
       "      <th>Female</th>\n",
       "      <th>Male</th>\n",
       "      <th>Female</th>\n",
       "      <th>Male</th>\n",
       "      <th>Female</th>\n",
       "      <th>Male</th>\n",
       "    </tr>\n",
       "    <tr>\n",
       "      <th>Age</th>\n",
       "      <th></th>\n",
       "      <th></th>\n",
       "      <th></th>\n",
       "      <th></th>\n",
       "      <th></th>\n",
       "      <th></th>\n",
       "    </tr>\n",
       "  </thead>\n",
       "  <tbody>\n",
       "    <tr>\n",
       "      <th>(10, 20]</th>\n",
       "      <td>26.435625</td>\n",
       "      <td>26.230286</td>\n",
       "      <td>6.969054</td>\n",
       "      <td>7.024190</td>\n",
       "      <td>160</td>\n",
       "      <td>175</td>\n",
       "    </tr>\n",
       "    <tr>\n",
       "      <th>(20, 30]</th>\n",
       "      <td>28.422309</td>\n",
       "      <td>27.712441</td>\n",
       "      <td>7.866190</td>\n",
       "      <td>6.583785</td>\n",
       "      <td>511</td>\n",
       "      <td>426</td>\n",
       "    </tr>\n",
       "    <tr>\n",
       "      <th>(30, 40]</th>\n",
       "      <td>30.325586</td>\n",
       "      <td>29.611726</td>\n",
       "      <td>8.315608</td>\n",
       "      <td>6.622412</td>\n",
       "      <td>469</td>\n",
       "      <td>452</td>\n",
       "    </tr>\n",
       "    <tr>\n",
       "      <th>(40, 50]</th>\n",
       "      <td>31.160643</td>\n",
       "      <td>29.724623</td>\n",
       "      <td>8.076195</td>\n",
       "      <td>6.407076</td>\n",
       "      <td>498</td>\n",
       "      <td>398</td>\n",
       "    </tr>\n",
       "    <tr>\n",
       "      <th>(50, 60]</th>\n",
       "      <td>30.743777</td>\n",
       "      <td>29.231486</td>\n",
       "      <td>7.575848</td>\n",
       "      <td>5.914373</td>\n",
       "      <td>466</td>\n",
       "      <td>451</td>\n",
       "    </tr>\n",
       "    <tr>\n",
       "      <th>(60, 70]</th>\n",
       "      <td>31.074828</td>\n",
       "      <td>29.392488</td>\n",
       "      <td>7.604514</td>\n",
       "      <td>5.933307</td>\n",
       "      <td>437</td>\n",
       "      <td>426</td>\n",
       "    </tr>\n",
       "    <tr>\n",
       "      <th>(70, 80]</th>\n",
       "      <td>29.138213</td>\n",
       "      <td>27.957692</td>\n",
       "      <td>6.284968</td>\n",
       "      <td>4.974855</td>\n",
       "      <td>403</td>\n",
       "      <td>390</td>\n",
       "    </tr>\n",
       "  </tbody>\n",
       "</table>\n",
       "</div>"
      ],
      "text/plain": [
       "                BMI                                           \n",
       "               mean                  std             size     \n",
       "Gender       Female       Male    Female      Male Female Male\n",
       "Age                                                           \n",
       "(10, 20]  26.435625  26.230286  6.969054  7.024190    160  175\n",
       "(20, 30]  28.422309  27.712441  7.866190  6.583785    511  426\n",
       "(30, 40]  30.325586  29.611726  8.315608  6.622412    469  452\n",
       "(40, 50]  31.160643  29.724623  8.076195  6.407076    498  398\n",
       "(50, 60]  30.743777  29.231486  7.575848  5.914373    466  451\n",
       "(60, 70]  31.074828  29.392488  7.604514  5.933307    437  426\n",
       "(70, 80]  29.138213  27.957692  6.284968  4.974855    403  390"
      ]
     },
     "execution_count": 50,
     "metadata": {},
     "output_type": "execute_result"
    }
   ],
   "source": [
    "dbmi = dbmi.groupby(['Age', 'Gender']).agg({'BMI' : [np.mean, np.std, np.size]}).unstack()\n",
    "dbmi"
   ]
  },
  {
   "cell_type": "markdown",
   "id": "ca96d9ca",
   "metadata": {
    "papermill": {
     "duration": 0.050198,
     "end_time": "2022-02-03T08:54:59.962703",
     "exception": false,
     "start_time": "2022-02-03T08:54:59.912505",
     "status": "completed"
    },
    "tags": []
   },
   "source": [
    "__Q4a.__ How do the widths of these confidence intervals differ?  Provide an explanation for any substantial diferences in the confidence interval widths that you see. How do the widths of these confidence intervals differ?  Provide an explanation for any substantial diferences in the confidence interval widths that you see."
   ]
  },
  {
   "cell_type": "markdown",
   "id": "de0f06eb",
   "metadata": {
    "papermill": {
     "duration": 0.051762,
     "end_time": "2022-02-03T08:55:00.066271",
     "exception": false,
     "start_time": "2022-02-03T08:55:00.014509",
     "status": "completed"
    },
    "tags": []
   },
   "source": [
    "### Problem 5\n",
    "Construct a 95% confidence interval for the first and second systolic blood pressure measures, and for the difference between the first and second systolic blood pressure measurements within a subject."
   ]
  },
  {
   "cell_type": "code",
   "execution_count": null,
   "id": "93ec9efe",
   "metadata": {
    "papermill": {
     "duration": 0.05129,
     "end_time": "2022-02-03T08:55:00.169456",
     "exception": false,
     "start_time": "2022-02-03T08:55:00.118166",
     "status": "completed"
    },
    "tags": []
   },
   "outputs": [],
   "source": []
  },
  {
   "cell_type": "markdown",
   "id": "115ec330",
   "metadata": {
    "papermill": {
     "duration": 0.050556,
     "end_time": "2022-02-03T08:55:00.271716",
     "exception": false,
     "start_time": "2022-02-03T08:55:00.221160",
     "status": "completed"
    },
    "tags": []
   },
   "source": [
    "**Q5a**. Based on these confidence intervals, would you say that a difference of zero between the population mean values of the first and second systolic blood pressure measures is consistent with the data?"
   ]
  },
  {
   "cell_type": "markdown",
   "id": "56b48831",
   "metadata": {
    "papermill": {
     "duration": 0.050891,
     "end_time": "2022-02-03T08:55:00.373762",
     "exception": false,
     "start_time": "2022-02-03T08:55:00.322871",
     "status": "completed"
    },
    "tags": []
   },
   "source": [
    "**Q5b**. Discuss how the width of the confidence interval for the within-subject difference compares to the widths of the confidence intervals for the first and second measures."
   ]
  },
  {
   "cell_type": "markdown",
   "id": "6f07c1cc",
   "metadata": {
    "papermill": {
     "duration": 0.05125,
     "end_time": "2022-02-03T08:55:00.475651",
     "exception": false,
     "start_time": "2022-02-03T08:55:00.424401",
     "status": "completed"
    },
    "tags": []
   },
   "source": [
    "### Problem 6\n",
    "Construct a 95% confidence interval for the mean difference between the average age of a smoker, and the average age of a non-smoker."
   ]
  },
  {
   "cell_type": "markdown",
   "id": "990b2edd",
   "metadata": {
    "papermill": {
     "duration": 0.050878,
     "end_time": "2022-02-03T08:55:00.578122",
     "exception": false,
     "start_time": "2022-02-03T08:55:00.527244",
     "status": "completed"
    },
    "tags": []
   },
   "source": [
    "**Q6a** Use graphical and numerical techniques to compare the variation in the ages of smokers to the variation in the ages of non-smokers."
   ]
  },
  {
   "cell_type": "markdown",
   "id": "f0f38203",
   "metadata": {
    "papermill": {
     "duration": 0.051268,
     "end_time": "2022-02-03T08:55:00.680547",
     "exception": false,
     "start_time": "2022-02-03T08:55:00.629279",
     "status": "completed"
    },
    "tags": []
   },
   "source": [
    "**Q6b** Does it appear that uncertainty about the mean age of smokers, or uncertainty about the mean age of non-smokers contributed more to the uncertainty for the mean difference that we are focusing on here?"
   ]
  },
  {
   "cell_type": "code",
   "execution_count": null,
   "id": "d1bd5b81",
   "metadata": {
    "papermill": {
     "duration": 0.05029,
     "end_time": "2022-02-03T08:55:00.780703",
     "exception": false,
     "start_time": "2022-02-03T08:55:00.730413",
     "status": "completed"
    },
    "tags": []
   },
   "outputs": [],
   "source": []
  }
 ],
 "metadata": {
  "kernelspec": {
   "display_name": "Python 3",
   "language": "python",
   "name": "python3"
  },
  "language_info": {
   "codemirror_mode": {
    "name": "ipython",
    "version": 3
   },
   "file_extension": ".py",
   "mimetype": "text/x-python",
   "name": "python",
   "nbconvert_exporter": "python",
   "pygments_lexer": "ipython3",
   "version": "3.7.12"
  },
  "papermill": {
   "default_parameters": {},
   "duration": 23.839177,
   "end_time": "2022-02-03T08:55:01.641940",
   "environment_variables": {},
   "exception": null,
   "input_path": "__notebook__.ipynb",
   "output_path": "__notebook__.ipynb",
   "parameters": {},
   "start_time": "2022-02-03T08:54:37.802763",
   "version": "2.3.3"
  }
 },
 "nbformat": 4,
 "nbformat_minor": 5
}
